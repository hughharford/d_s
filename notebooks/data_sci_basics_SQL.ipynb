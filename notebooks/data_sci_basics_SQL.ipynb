{
 "cells": [
  {
   "cell_type": "markdown",
   "metadata": {},
   "source": [
    "# An SQL notebook\n",
    "### to note SQL basic techniques\n",
    "\n",
    "Contents:\n",
    "  - SQL and database basics"
   ]
  },
  {
   "cell_type": "markdown",
   "metadata": {},
   "source": [
    "### Broad import statement"
   ]
  },
  {
   "cell_type": "code",
   "execution_count": 2,
   "metadata": {},
   "outputs": [],
   "source": [
    "# data sourcing:\n",
    "import csv\n",
    "\n",
    "# databases:\n",
    "import sqlite3\n",
    "\n",
    "# data toolkit:\n",
    "import numpy as np\n",
    "import pandas as pd\n",
    "\n",
    "# plotting\n",
    "import matplotlib.pyplot as plt"
   ]
  },
  {
   "cell_type": "markdown",
   "metadata": {},
   "source": [
    "# CHEATSHEETS\n",
    "[SQL Cheatsheet](https://learnsql.com/blog/ultimate-sql-cheat-sheet/All-sql-cheat-sheet-a4.pdf)\n",
    "\n",
    "[Numpy Cheatsheet](https://s3.amazonaws.com/assets.datacamp.com/blog_assets/Numpy_Python_Cheat_Sheet.pdf)\n",
    "\n",
    "[Pandas Cheatsheet](https://pandas.pydata.org/Pandas_Cheat_Sheet.pdf)"
   ]
  },
  {
   "cell_type": "markdown",
   "metadata": {},
   "source": [
    "#"
   ]
  },
  {
   "cell_type": "markdown",
   "metadata": {},
   "source": [
    "# SQL and database basics\n",
    "## use db:\n",
    "### https://www.kaggle.com/datasets/hugomathien/soccer\n",
    " "
   ]
  },
  {
   "cell_type": "markdown",
   "metadata": {},
   "source": [
    "### [SQL Cheatsheet](https://learnsql.com/blog/ultimate-sql-cheat-sheet/All-sql-cheat-sheet-a4.pdf)"
   ]
  },
  {
   "cell_type": "markdown",
   "metadata": {},
   "source": [
    "### DBeaver:"
   ]
  },
  {
   "cell_type": "code",
   "execution_count": 9,
   "metadata": {},
   "outputs": [],
   "source": [
    "# install dbeaver with\n",
    "# sudo add-apt-repository ppa:serge-rider/dbeaver-ce\n",
    "# sudo apt-get update\n",
    "# sudo apt-get install dbeaver-ce\n",
    "\n",
    "# run from the command line with:\n",
    "# dbeaver-ce"
   ]
  },
  {
   "cell_type": "code",
   "execution_count": 10,
   "metadata": {},
   "outputs": [],
   "source": [
    "# order of SQL operations matters:"
   ]
  },
  {
   "cell_type": "markdown",
   "metadata": {},
   "source": [
    "![image.png](https://cdn.sisense.com/wp-content/uploads/image-1-order-blog.png)"
   ]
  },
  {
   "cell_type": "code",
   "execution_count": 11,
   "metadata": {},
   "outputs": [],
   "source": [
    "# python access to database:\n",
    "db_path_movies = '../data/movies.sqlite'\n",
    "# import sqlite3\n",
    "conn = sqlite3.connect(db_path_movies)\n",
    "c = conn.cursor()"
   ]
  },
  {
   "cell_type": "code",
   "execution_count": 12,
   "metadata": {},
   "outputs": [
    {
     "data": {
      "text/plain": [
       "'Georges Méliès'"
      ]
     },
     "execution_count": 12,
     "metadata": {},
     "output_type": "execute_result"
    }
   ],
   "source": [
    "# SQL run the commands:\n",
    "c.execute(\"SELECT * FROM directors\")\n",
    "rows = c.fetchall()\n",
    "first_row = rows[0]\n",
    "first_row[0]"
   ]
  },
  {
   "cell_type": "code",
   "execution_count": 13,
   "metadata": {},
   "outputs": [
    {
     "data": {
      "text/plain": [
       "['name', 'birth_year', 'death_year', 'imdb_director_id', 'id']"
      ]
     },
     "execution_count": 13,
     "metadata": {},
     "output_type": "execute_result"
    }
   ],
   "source": [
    "# SQL fetch list of row elements:\n",
    "conn = sqlite3.connect(db_path_movies)\n",
    "conn.row_factory = sqlite3.Row\n",
    "c = conn.cursor()\n",
    "\n",
    "c.execute(\"SELECT * FROM directors\")\n",
    "rows = c.fetchall()\n",
    "first_row = rows[0]\n",
    "\n",
    "first_row['birth_year'] # table field names: name, birth_year, death_year, imdb_director_id, id\n",
    "first_row.keys()"
   ]
  },
  {
   "cell_type": "code",
   "execution_count": 14,
   "metadata": {},
   "outputs": [
    {
     "data": {
      "text/plain": [
       "('Georges Méliès', 1861, 1938, 'nm0617588', 1)"
      ]
     },
     "execution_count": 14,
     "metadata": {},
     "output_type": "execute_result"
    }
   ],
   "source": [
    "tuple(first_row)"
   ]
  },
  {
   "cell_type": "code",
   "execution_count": 15,
   "metadata": {},
   "outputs": [
    {
     "data": {
      "text/plain": [
       "['Georges Méliès', 1861, 1938, 'nm0617588', 1]"
      ]
     },
     "execution_count": 15,
     "metadata": {},
     "output_type": "execute_result"
    }
   ],
   "source": [
    "list(first_row)"
   ]
  },
  {
   "cell_type": "code",
   "execution_count": 16,
   "metadata": {},
   "outputs": [
    {
     "name": "stdout",
     "output_type": "stream",
     "text": [
      "David Lynch - 1946\n"
     ]
    }
   ],
   "source": [
    "# SQL use fetchone when relevant:\n",
    "c.execute(\"SELECT * FROM directors WHERE directors.imdb_director_id = 'nm0000186'\")\n",
    "row = c.fetchone()\n",
    "print(row[0], '-' ,row[1])"
   ]
  },
  {
   "cell_type": "code",
   "execution_count": 17,
   "metadata": {},
   "outputs": [
    {
     "name": "stdout",
     "output_type": "stream",
     "text": [
      "D.W. Griffith 1875 1948 nm0000428 4\n"
     ]
    }
   ],
   "source": [
    "# SQL Projection - select columns in the query:\n",
    "query = \"SELECT d.id, d.name, d.birth_year FROM directors AS d\"\n",
    "# NB - alias\n",
    "\n",
    "# SQL Selection- select row:\n",
    "query = \"\"\"\n",
    "SELECT *\n",
    "FROM directors AS d\n",
    "WHERE d.name = 'D.W. Griffith'\n",
    "\"\"\"\n",
    "c.execute(query)\n",
    "row = c.fetchone()\n",
    "print(f'{row[0]} {row[1]} {row[2]} {row[3]} {row[4]}')"
   ]
  },
  {
   "cell_type": "code",
   "execution_count": 18,
   "metadata": {},
   "outputs": [],
   "source": [
    "# SQL  multiple selections:\n",
    "\n",
    "query =\"\"\"SELECT *\n",
    "FROM directors AS d\n",
    "WHERE d.name = 'D.W. Griffith'\n",
    "OR d.name = 'David Lynch'\"\"\"\n",
    "\n",
    "query = \"\"\"SELECT *\n",
    "FROM directors AS d\n",
    "WHERE d.name IN ('D.W. Griffith', 'David Lynch')\"\"\"\n",
    "\n",
    "query =\"\"\"SELECT *\n",
    "FROM movies AS m\n",
    "WHERE UPPER(m.title) LIKE 'THE %'\"\"\" # all movies starting with \"THE \""
   ]
  },
  {
   "cell_type": "code",
   "execution_count": 19,
   "metadata": {},
   "outputs": [],
   "source": [
    "# SQL counting\n",
    "q = \"\"\"SELECT COUNT(directors.id)\n",
    "FROM directors\n",
    "WHERE directors.birth_year >= 1980\n",
    "\"\"\""
   ]
  },
  {
   "cell_type": "code",
   "execution_count": 20,
   "metadata": {},
   "outputs": [],
   "source": [
    "# SQL sorting:\n",
    "q = \"\"\"SELECT *\n",
    "FROM directors AS d\n",
    "ORDER BY d.birth_year DESC\n",
    "LIMIT 10\"\"\""
   ]
  },
  {
   "cell_type": "code",
   "execution_count": null,
   "metadata": {},
   "outputs": [],
   "source": [
    "# SQL select unique values with DISTINCT:\n",
    "q = \"\"\"SELECT DISTINCT *\n",
    "FROM directors AS d\n",
    "ORDER BY d.birth_year DESC\n",
    "LIMIT 10\"\"\""
   ]
  },
  {
   "cell_type": "code",
   "execution_count": null,
   "metadata": {},
   "outputs": [],
   "source": [
    "# combine lists with SQL UNION:\n",
    "q = \"\"\"SELECT DISTINCT *\n",
    "FROM directors\n",
    "UNION\n",
    "SELECT * FROM movies\n",
    "\"\"\""
   ]
  },
  {
   "cell_type": "code",
   "execution_count": null,
   "metadata": {},
   "outputs": [],
   "source": [
    "# simple aggregation with MAX\"\n",
    "q = \"\"\"\n",
    "SELECT MAX(birth_year) FROM directors\n",
    "\"\"\""
   ]
  },
  {
   "cell_type": "code",
   "execution_count": null,
   "metadata": {},
   "outputs": [],
   "source": [
    "# subquery to select single row data with criteria\n",
    "q = \"\"\"\n",
    "SELECT name, age FROM directors\n",
    "WHERE age IN (SELECT MAX(age) FROM directors)\n",
    "\"\"\""
   ]
  },
  {
   "cell_type": "code",
   "execution_count": 21,
   "metadata": {},
   "outputs": [
    {
     "name": "stdout",
     "output_type": "stream",
     "text": [
      "[<sqlite3.Row object at 0x7f5326fdaa10>, <sqlite3.Row object at 0x7f53082636a0>, <sqlite3.Row object at 0x7f5308263100>, <sqlite3.Row object at 0x7f5308263a30>, <sqlite3.Row object at 0x7f5308263f10>, <sqlite3.Row object at 0x7f5308263d00>, <sqlite3.Row object at 0x7f5308262e90>, <sqlite3.Row object at 0x7f53082631c0>, <sqlite3.Row object at 0x7f5308263a00>, <sqlite3.Row object at 0x7f5308262e00>]\n"
     ]
    }
   ],
   "source": [
    "query = \"\"\"SELECT d.name\n",
    "            FROM directors AS d\n",
    "            ORDER BY d.name\n",
    "            LIMIT 10\"\"\"\n",
    "c.execute(query)\n",
    "rows = c.fetchall()\n",
    "first_row = rows[0]\n",
    "\n",
    "print(rows)\n",
    "\n",
    "# for r in rows:\n",
    "#     print(f\"{r[0]}\")"
   ]
  },
  {
   "cell_type": "code",
   "execution_count": 22,
   "metadata": {},
   "outputs": [],
   "source": [
    "db_path_soccer = '../data/soccer.sqlite'\n",
    "conn = sqlite3.connect(db_path_soccer)\n",
    "conn.row_factory = sqlite3.Row\n",
    "c = conn.cursor()"
   ]
  },
  {
   "cell_type": "code",
   "execution_count": 23,
   "metadata": {},
   "outputs": [
    {
     "name": "stdout",
     "output_type": "stream",
     "text": [
      "1728\n"
     ]
    }
   ],
   "source": [
    "# GROUPING:\n",
    "# Grouping rows on a given column C (aggregating rows with a function where values of C column are the same)\n",
    "\n",
    "# how many matches played per country:\n",
    "query = \"\"\"SELECT COUNT(matches.id), matches.country_id\n",
    "FROM \"Match\" AS matches\n",
    "GROUP BY matches.country_id\"\"\"\n",
    "\n",
    "c.execute(query)\n",
    "row = c.fetchone()\n",
    "print(f'{row[0]}')"
   ]
  },
  {
   "cell_type": "code",
   "execution_count": 24,
   "metadata": {},
   "outputs": [
    {
     "name": "stdout",
     "output_type": "stream",
     "text": [
      "Matches: 3040 Country id: 21518\n",
      "Matches: 3040 Country id: 4769\n",
      "Matches: 3040 Country id: 1729\n",
      "Matches: 3017 Country id: 10257\n"
     ]
    }
   ],
   "source": [
    "# What if we want to sort those results? We need an alias:\n",
    "query1 = \"\"\"SELECT COUNT(matches.id) AS match_count, matches.country_id\n",
    "FROM \"Match\" AS matches\n",
    "GROUP BY matches.country_id\n",
    "ORDER BY match_count DESC\"\"\"\n",
    "\n",
    "query2 = \"\"\"SELECT COUNT(matches.id) AS match_count, matches.country_id\n",
    "FROM \"Match\" AS matches\n",
    "GROUP BY matches.country_id\n",
    "HAVING match_count >= 3000\n",
    "ORDER BY match_count DESC\"\"\"\n",
    "\n",
    "c.execute(query2)\n",
    "rows = c.fetchall()\n",
    "\n",
    "for r in rows:\n",
    "    print(f\"Matches: {r['match_count']} Country id: {r['country_id']}\")\n"
   ]
  },
  {
   "cell_type": "code",
   "execution_count": 25,
   "metadata": {},
   "outputs": [
    {
     "name": "stdout",
     "output_type": "stream",
     "text": [
      "11917 home_win\n",
      "7466 away_win\n",
      "6596 draw\n"
     ]
    }
   ],
   "source": [
    "# naming outcomes and calculating using CASE & END AS\n",
    "\n",
    "# note conditional equals in SQL as single =\n",
    "\n",
    "# How many matches were\n",
    "    # won by the home team?\n",
    "    # won by the away team?\n",
    "    # finished with a draw?\n",
    "\n",
    "query = \"\"\"\n",
    "SELECT\n",
    "COUNT(matches.id) AS outcome_count,\n",
    "CASE\n",
    "    WHEN matches.home_team_goal > matches.away_team_goal\n",
    "        THEN 'home_win'\n",
    "    WHEN matches.home_team_goal = matches.away_team_goal\n",
    "        THEN 'draw'\n",
    "    ELSE 'away_win'\n",
    "END AS outcome\n",
    "FROM \"Match\" AS matches\n",
    "GROUP BY outcome\n",
    "ORDER BY outcome_count DESC\"\"\"\n",
    "\n",
    "c.execute(query)\n",
    "rows = c.fetchall()\n",
    "first_row = rows[0]\n",
    "first_row.keys()\n",
    "\n",
    "for r in rows:\n",
    "    print(f\"{r['outcome_count']} {r['outcome']}\")\n"
   ]
  },
  {
   "cell_type": "code",
   "execution_count": 26,
   "metadata": {},
   "outputs": [
    {
     "name": "stdout",
     "output_type": "stream",
     "text": [
      " Belgium Jupiler League\n",
      " England Premier League\n",
      " France Ligue 1\n",
      " Germany 1. Bundesliga\n",
      " Italy Serie A\n",
      " Netherlands Eredivisie\n",
      " Poland Ekstraklasa\n",
      " Portugal Liga ZON Sagres\n",
      " Scotland Premier League\n",
      " Spain LIGA BBVA\n",
      " Switzerland Super League\n"
     ]
    }
   ],
   "source": [
    "# Querying multiple tables:\n",
    "\n",
    "query = \"\"\"\n",
    "SELECT League.name as LeagueName, Country.name as CountryName\n",
    "FROM League\n",
    "JOIN Country ON League.country_id = Country.id\"\"\"\n",
    "\n",
    "c.execute(query)\n",
    "rows = c.fetchall()\n",
    "first_row = rows[0]\n",
    "first_row.keys()\n",
    "\n",
    "for r in rows:\n",
    "    print(f\" {r['LeagueName']}\") # including CountryName looks like a duplicate"
   ]
  },
  {
   "cell_type": "code",
   "execution_count": 27,
   "metadata": {},
   "outputs": [],
   "source": [
    "# string selection with SQL with (movies db):\n",
    "exclude = 'cloverfield'\n",
    "query = f'''SELECT m.title\n",
    "        FROM movies AS m\n",
    "        WHERE UPPER(title) LIKE '% LOVE %'\n",
    "        OR UPPER(title) LIKE 'LOVE %'\n",
    "        OR UPPER(title) LIKE 'LOVE,%'\n",
    "        AND m.title NOT LIKE \"%{exclude}%\"\n",
    "        ORDER BY m.title'''"
   ]
  },
  {
   "cell_type": "code",
   "execution_count": 28,
   "metadata": {},
   "outputs": [],
   "source": [
    "# doing maths on the fly and naming columns:\n",
    "query = \"\"\"SELECT d.name,\n",
    "            (m.start_year - d.birth_year) age\n",
    "            FROM directors AS d\n",
    "            JOIN movies AS m ON m.director_id = d.id\n",
    "            WHERE age IS NOT NULL\n",
    "            ORDER BY age\n",
    "            LIMIT 5\n",
    "            \"\"\""
   ]
  },
  {
   "cell_type": "code",
   "execution_count": 29,
   "metadata": {},
   "outputs": [],
   "source": [
    "# numerical bucketing is simply done this way:\n",
    "# 30 buckets achieved by / 30 + 1, with *30 gives the labels to time_range\n",
    "query = \"\"\"SELECT\n",
    "        (minutes / 30 + 1)*30 time_range,\n",
    "        COUNT(*)\n",
    "    FROM movies\n",
    "    WHERE minutes IS NOT NULL\n",
    "    GROUP BY time_range\"\"\"\n",
    "    # neat and quick"
   ]
  },
  {
   "cell_type": "code",
   "execution_count": 30,
   "metadata": {},
   "outputs": [],
   "source": [
    "# both the following queries achieve the same outcome\n",
    "# 'query' was my solution, I just needed the LEFT JOIN to achieve the same as\n",
    "# 'q_sol'\n",
    "# the WITH new_table_name AS (SELECT * FROM table_x etc) is powerful\n",
    "# this allows additional table definition on the fly\n",
    "\n",
    "# The SQL Command: COALESCE returns the first non-null result in the list\n",
    "# Used here to ensure 0 is returned if the count is null\n",
    "\n",
    "query = f\"\"\"SELECT\n",
    "        c.ContactName AS contact_name,\n",
    "        COUNT(o.OrderID) NoOrders\n",
    "        FROM Customers AS c\n",
    "        LEFT JOIN Orders as o ON o.CustomerID = c.CustomerID\n",
    "        GROUP BY contact_name\n",
    "        ORDER BY NoOrders\n",
    "        \"\"\"\n",
    "\n",
    "q_sol = \"\"\"\n",
    "    WITH no_orders AS (\n",
    "        SELECT *\n",
    "        FROM Customers c\n",
    "        LEFT JOIN Orders o ON o.CustomerID = c.CustomerID\n",
    "    )\n",
    "    SELECT\n",
    "        no_orders.ContactName\n",
    "        ,COALESCE(COUNT(no_orders.OrderID), 0) AS number_orders\n",
    "    FROM no_orders\n",
    "    GROUP BY no_orders.CustomerID\n",
    "    ORDER BY number_orders\n",
    "    \"\"\""
   ]
  },
  {
   "cell_type": "code",
   "execution_count": 31,
   "metadata": {},
   "outputs": [],
   "source": [
    "# Window Functions like RANK or SUM with the OVER keyword.\n",
    "# https://mode.com/sql-tutorial/sql-window-functions\n",
    "\n",
    "'''Implement order_rank_per_customer to rank the orders of each\n",
    "customer according to the order date.\n",
    "For each customer, the orders should be ranked in the chronological order.\n",
    "This function should return a list of tuples like\n",
    "(OrderID, CustomerID, OrderDate, OrderRank).'''\n",
    "\n",
    "# Simple rank in order of something, in this case date\n",
    "\n",
    "query = f\"\"\"SELECT\n",
    "    o.OrderID,\n",
    "    c.CustomerID,\n",
    "    o.OrderDate,\n",
    "    RANK() OVER (PARTITION BY c.CustomerID\n",
    "        ORDER BY o.OrderDate)\n",
    "        AS OrderRank\n",
    "    FROM Orders as o\n",
    "    JOIN Customers AS c ON c.CustomerID = o.CustomerID\n",
    "    \"\"\"\n",
    "\n",
    "'''Implement order_cumulative_amount_per_customer to compute the\n",
    "cumulative amount (in USD) of the orders of each customer according\n",
    "to the order date.\n",
    "For each customer, the orders should be ranked in the chronological order.\n",
    "This function should return a list of tuples like\n",
    "(OrderID, CustomerID, OrderDate, OrderCumulativeAmount).'''\n",
    "\n",
    "#\n",
    "\n",
    "query = f\"\"\"\n",
    "    WITH order_sum AS (\n",
    "        SELECT\n",
    "        o.OrderID,\n",
    "        o.CustomerID,\n",
    "        o.OrderDate,\n",
    "        SUM(ROUND(od.UnitPrice * od.Quantity,2))\n",
    "            OVER (PARTITION BY o.CustomerID\n",
    "            ORDER BY o.OrderDate)\n",
    "            AS OrderCumulativeAmount\n",
    "        FROM Orders as o\n",
    "        JOIN OrderDetails AS od ON od.OrderID = o.OrderID\n",
    "        )\n",
    "    SELECT *\n",
    "    FROM order_sum\n",
    "    GROUP BY order_sum.OrderID\n",
    "    ORDER BY order_sum.CustomerID\n",
    "    \"\"\""
   ]
  },
  {
   "cell_type": "code",
   "execution_count": 32,
   "metadata": {},
   "outputs": [],
   "source": [
    "# this shows double WITH, producing 2 tables, the general average just being a\n",
    "# number\n",
    "\n",
    "# TASK:\n",
    "# return the customers who have an average purchase greater\n",
    "# than the general average purchase\n",
    "query = '''\n",
    "    WITH OrderValues AS (\n",
    "        SELECT\n",
    "        SUM(od.UnitPrice * od.Quantity) AS value,\n",
    "        od.OrderID\n",
    "        FROM OrderDetails od\n",
    "        GROUP BY od.OrderID\n",
    "    ),\n",
    "    generalaverage AS (\n",
    "        SELECT\n",
    "            ROUND(AVG(ov.value), 0) AS average\n",
    "        FROM OrderValues ov\n",
    "        )\n",
    "    SELECT\n",
    "        c.CustomerID\n",
    "        ,ROUND(AVG(ov.value),2) AS customer_average\n",
    "    FROM Customers as c\n",
    "    JOIN Orders AS o ON o.CustomerID = c.CustomerID\n",
    "    JOIN ordervalues AS ov ON ov.OrderID = o.OrderID\n",
    "    GROUP BY c.CustomerID\n",
    "    HAVING customer_average > (SELECT average FROM generalaverage)\n",
    "    ORDER BY customer_average DESC\n",
    "    '''"
   ]
  },
  {
   "cell_type": "code",
   "execution_count": null,
   "metadata": {},
   "outputs": [],
   "source": [
    "# RANDOM CUT AND PASTE FROM\n",
    "# https://pgexercises.com/gettingstarted.html"
   ]
  },
  {
   "cell_type": "code",
   "execution_count": null,
   "metadata": {},
   "outputs": [],
   "source": [
    "# simple join 1\n",
    "\n",
    "postgreSQL_QUERY = '''\n",
    "SELECT b.starttime AS start, m.surname AS name\n",
    "FROM cd.members AS m\n",
    "\tINNER JOIN cd.bookings AS b\n",
    "\tON m.memid = b.memid\n",
    "WHERE\n",
    "m.surname IN ('Farrell')\n",
    " AND m.firstname IN ('David')\n",
    "ORDER BY b.starttime;'''\n",
    "\n",
    "# simple join 2\n",
    "\n",
    "postgreSQL_QUERY = '''\n",
    "SELECT b.starttime AS start, f.name AS name\n",
    "FROM cd.facilities AS f\n",
    "\tINNER JOIN cd.bookings AS b\n",
    "\tON f.facid = b.facid\n",
    "WHERE\n",
    "f.name IN ('Tennis Court 2','Tennis Court 1') AND\n",
    "b.starttime >= '2012-09-21' AND b.starttime < '2012-09-22'\n",
    "ORDER BY b.starttime;\n",
    "'''\n",
    "\n",
    "# simple join 3 - self\n",
    "# How can you output a list of all members who have recommended another member?\n",
    "# Ensure that there are no duplicates in the list,\n",
    "# and that results are ordered by (surname, firstname).\n",
    "postgreSQL_QUERY = '''\n",
    "SELECT DISTINCT m.firstname, m.surname\n",
    "FROM cd.members AS m\n",
    "\tINNER JOIN cd.members AS m2\n",
    "\tON m.memid = m2.recommendedby\n",
    "ORDER BY m.surname;'''\n",
    "\n",
    "# simple join 4 - self2\n",
    "# How can you output a list of all members who have recommended another member?\n",
    "# Ensure that there are no duplicates in the list, and that results\n",
    "# are ordered by (surname, firstname).\n",
    "postgreSQL_QUERY = '''\n",
    "SELECT\n",
    "m.firstname AS memfname\n",
    ", m.surname AS memsname\n",
    ", m2.firstname AS recfname\n",
    ", m2.surname AS recsname\n",
    "FROM cd.members AS m\n",
    "\tLEFT OUTER JOIN cd.members AS m2\n",
    "\tON m2.memid = m.recommendedby\n",
    "ORDER BY memsname, memfname;\n",
    "'''\n",
    "\n",
    "#  Produce a list of all members who have used a tennis court\n",
    "# Simple Join 4 - threejoin\n",
    "# How can you produce a list of all members who have used a tennis court?\n",
    "# Include in your output the name of the court, and the name of the member formatted as a single column.\n",
    "# Ensure no duplicate data, and order by the member name followed by the facility name.\n",
    "build_up = '''\n",
    "SELECT f.name AS facility\n",
    "FROM cd.facilities AS f\n",
    "WHERE f.name LIKE '%Tennis Court%'\n",
    "\n",
    "SELECT CONCAT_WS(' ', m.firstname, m.surname) AS member\n",
    "FROM cd.members AS m\n",
    "'''\n",
    "\n",
    "postgreSQL_QUERY = '''\n",
    "SELECT DISTINCT CONCAT_WS(' ', m.firstname, m.surname) AS member, f.name AS facility\n",
    "FROM cd.members AS m\n",
    "JOIN cd.bookings AS b\n",
    "ON m.memid = b.memid\n",
    "JOIN cd.facilities AS f\n",
    "ON f.facid = b.facid\n",
    "WHERE f.name LIKE '%Tennis Court%'\n",
    "ORDER BY member, facility\n",
    "'''\n",
    "\n",
    "# alternatively:\n",
    "# NB  || operator is used to concatenate strings.\n",
    "# with a string in-between: e.g: mems.firstname || ' ' || mems.surname\n",
    "'''\n",
    "select distinct mems.firstname || ' ' || mems.surname as member, facs.name as facility\n",
    "\tfrom\n",
    "\t\tcd.members mems\n",
    "\t\tinner join cd.bookings bks\n",
    "\t\t\ton mems.memid = bks.memid\n",
    "\t\tinner join cd.facilities facs\n",
    "\t\t\ton bks.facid = facs.facid\n",
    "\twhere\n",
    "\t\tfacs.name in ('Tennis Court 2','Tennis Court 1')\n",
    "order by member, facility\n",
    "'''\n",
    "\n",
    "# Produce a list of costly bookings\n",
    "# Threejoin2\n",
    "# How can you produce a list of bookings on the day of 2012-09-14 which will cost the member (or guest) more than $30?\n",
    "# Remember that guests have different costs to members (the listed costs are per half-hour 'slot'),\n",
    "# and the guest user is always ID 0.\n",
    "# Include in your output the name of the facility, the name of the\n",
    "# member formatted as a single column, and the cost.\n",
    "# Order by descending cost, and do not use any subqueries.\n",
    "\n",
    "postgreSQL_QUERY = '''\n",
    "\n",
    "'''"
   ]
  },
  {
   "cell_type": "code",
   "execution_count": null,
   "metadata": {},
   "outputs": [],
   "source": []
  }
 ],
 "metadata": {
  "kernelspec": {
   "display_name": "initial_env",
   "language": "python",
   "name": "python3"
  },
  "language_info": {
   "codemirror_mode": {
    "name": "ipython",
    "version": 3
   },
   "file_extension": ".py",
   "mimetype": "text/x-python",
   "name": "python",
   "nbconvert_exporter": "python",
   "pygments_lexer": "ipython3",
   "version": "3.10.6"
  }
 },
 "nbformat": 4,
 "nbformat_minor": 2
}
