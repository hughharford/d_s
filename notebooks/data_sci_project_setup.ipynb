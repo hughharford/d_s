{
 "cells": [
  {
   "cell_type": "code",
   "execution_count": 1,
   "metadata": {},
   "outputs": [
    {
     "name": "stdout",
     "output_type": "stream",
     "text": [
      "Collecting git+ssh://****@github.com/krokrob/packgenlite\n",
      "  Cloning ssh://****@github.com/krokrob/packgenlite to /tmp/pip-req-build-39jtzdan\n",
      "  Running command git clone --filter=blob:none --quiet 'ssh://****@github.com/krokrob/packgenlite' /tmp/pip-req-build-39jtzdan\n",
      "  Resolved ssh://****@github.com/krokrob/packgenlite to commit b6c0a9c4da1bdd22350a444e11ebe4565fa2f34d\n",
      "  Preparing metadata (setup.py) ... \u001b[?25ldone\n",
      "\u001b[?25hRequirement already satisfied: pip>=9 in /home/hughharford/.pyenv/versions/3.10.6/envs/initial_env/lib/python3.10/site-packages (from packgenlite==1.1.3) (24.0)\n",
      "Requirement already satisfied: setuptools>=26 in /home/hughharford/.pyenv/versions/3.10.6/envs/initial_env/lib/python3.10/site-packages (from packgenlite==1.1.3) (63.2.0)\n",
      "Requirement already satisfied: wheel>=0.29 in /home/hughharford/.pyenv/versions/3.10.6/envs/initial_env/lib/python3.10/site-packages (from packgenlite==1.1.3) (0.41.3)\n",
      "Requirement already satisfied: setuptools_scm in /home/hughharford/.pyenv/versions/3.10.6/envs/initial_env/lib/python3.10/site-packages (from packgenlite==1.1.3) (6.4.2)\n",
      "Collecting future (from packgenlite==1.1.3)\n",
      "  Downloading future-1.0.0-py3-none-any.whl.metadata (4.0 kB)\n",
      "Requirement already satisfied: pandas in /home/hughharford/.pyenv/versions/3.10.6/envs/initial_env/lib/python3.10/site-packages (from packgenlite==1.1.3) (1.4.4)\n",
      "Collecting python-gitlab (from packgenlite==1.1.3)\n",
      "  Downloading python_gitlab-4.4.0-py3-none-any.whl.metadata (7.7 kB)\n",
      "Requirement already satisfied: python-dateutil>=2.8.1 in /home/hughharford/.pyenv/versions/3.10.6/envs/initial_env/lib/python3.10/site-packages (from pandas->packgenlite==1.1.3) (2.8.2)\n",
      "Requirement already satisfied: pytz>=2020.1 in /home/hughharford/.pyenv/versions/3.10.6/envs/initial_env/lib/python3.10/site-packages (from pandas->packgenlite==1.1.3) (2022.1)\n",
      "Requirement already satisfied: numpy>=1.21.0 in /home/hughharford/.pyenv/versions/3.10.6/envs/initial_env/lib/python3.10/site-packages (from pandas->packgenlite==1.1.3) (1.23.4)\n",
      "Requirement already satisfied: requests>=2.25.0 in /home/hughharford/.pyenv/versions/3.10.6/envs/initial_env/lib/python3.10/site-packages (from python-gitlab->packgenlite==1.1.3) (2.28.1)\n",
      "Collecting requests-toolbelt>=0.10.1 (from python-gitlab->packgenlite==1.1.3)\n",
      "  Downloading requests_toolbelt-1.0.0-py2.py3-none-any.whl.metadata (14 kB)\n",
      "Requirement already satisfied: packaging>=20.0 in /home/hughharford/.pyenv/versions/3.10.6/envs/initial_env/lib/python3.10/site-packages (from setuptools_scm->packgenlite==1.1.3) (21.3)\n",
      "Requirement already satisfied: tomli>=1.0.0 in /home/hughharford/.pyenv/versions/3.10.6/envs/initial_env/lib/python3.10/site-packages (from setuptools_scm->packgenlite==1.1.3) (2.0.1)\n",
      "Requirement already satisfied: pyparsing!=3.0.5,>=2.0.2 in /home/hughharford/.pyenv/versions/3.10.6/envs/initial_env/lib/python3.10/site-packages (from packaging>=20.0->setuptools_scm->packgenlite==1.1.3) (3.0.9)\n",
      "Requirement already satisfied: six>=1.5 in /home/hughharford/.pyenv/versions/3.10.6/envs/initial_env/lib/python3.10/site-packages (from python-dateutil>=2.8.1->pandas->packgenlite==1.1.3) (1.16.0)\n",
      "Requirement already satisfied: charset-normalizer<3,>=2 in /home/hughharford/.pyenv/versions/3.10.6/envs/initial_env/lib/python3.10/site-packages (from requests>=2.25.0->python-gitlab->packgenlite==1.1.3) (2.1.1)\n",
      "Requirement already satisfied: idna<4,>=2.5 in /home/hughharford/.pyenv/versions/3.10.6/envs/initial_env/lib/python3.10/site-packages (from requests>=2.25.0->python-gitlab->packgenlite==1.1.3) (3.4)\n",
      "Requirement already satisfied: urllib3<1.27,>=1.21.1 in /home/hughharford/.pyenv/versions/3.10.6/envs/initial_env/lib/python3.10/site-packages (from requests>=2.25.0->python-gitlab->packgenlite==1.1.3) (1.26.12)\n",
      "Requirement already satisfied: certifi>=2017.4.17 in /home/hughharford/.pyenv/versions/3.10.6/envs/initial_env/lib/python3.10/site-packages (from requests>=2.25.0->python-gitlab->packgenlite==1.1.3) (2022.9.24)\n",
      "Downloading future-1.0.0-py3-none-any.whl (491 kB)\n",
      "\u001b[2K   \u001b[38;2;114;156;31m━━━━━━━━━━━━━━━━━━━━━━━━━━━━━━━━━━━━━━━━\u001b[0m \u001b[32m491.3/491.3 kB\u001b[0m \u001b[31m11.0 MB/s\u001b[0m eta \u001b[36m0:00:00\u001b[0m[36m0:00:01\u001b[0m\n",
      "\u001b[?25hDownloading python_gitlab-4.4.0-py3-none-any.whl (138 kB)\n",
      "\u001b[2K   \u001b[38;2;114;156;31m━━━━━━━━━━━━━━━━━━━━━━━━━━━━━━━━━━━━━━━━\u001b[0m \u001b[32m139.0/139.0 kB\u001b[0m \u001b[31m14.8 MB/s\u001b[0m eta \u001b[36m0:00:00\u001b[0m\n",
      "\u001b[?25hUsing cached requests_toolbelt-1.0.0-py2.py3-none-any.whl (54 kB)\n",
      "Building wheels for collected packages: packgenlite\n",
      "  Building wheel for packgenlite (setup.py) ... \u001b[?25ldone\n",
      "\u001b[?25h  Created wheel for packgenlite: filename=packgenlite-1.1.3-py3-none-any.whl size=10595 sha256=da482ea94cc2cac3b989bddce04a501fcca126464b672164fd5dba470d2ec698\n",
      "  Stored in directory: /tmp/pip-ephem-wheel-cache-5o3dr1dg/wheels/3b/37/11/e7f19de452eec61cffbb9336238665cc2ab19ab61683fd80d6\n",
      "Successfully built packgenlite\n",
      "Installing collected packages: future, requests-toolbelt, python-gitlab, packgenlite\n",
      "Successfully installed future-1.0.0 packgenlite-1.1.3 python-gitlab-4.4.0 requests-toolbelt-1.0.0\n"
     ]
    }
   ],
   "source": [
    "### IF NOT INSTALLED ALREADY:\n",
    "\n",
    "# # pip install git+ssh://git@github.com/krokrob/packgenlite\n",
    "# cd /tmp && packgenlite first_project"
   ]
  },
  {
   "cell_type": "code",
   "execution_count": 3,
   "metadata": {},
   "outputs": [],
   "source": [
    "## basic project setup:\n",
    "\n",
    "# cd ~/code/<user.github_nickname>\n",
    "# packgenlite <<MLPROJECTNAME>>"
   ]
  },
  {
   "cell_type": "code",
   "execution_count": null,
   "metadata": {},
   "outputs": [],
   "source": [
    "### setup git \n",
    "\n",
    "# gh repo create\n",
    "# > select 3RD option: \n",
    "#          Push an existing local repository to GitHub\n",
    "\n",
    "# follow prompts carefully"
   ]
  },
  {
   "cell_type": "code",
   "execution_count": null,
   "metadata": {},
   "outputs": [],
   "source": [
    "### Setup virtual environment:\n",
    "\n",
    "# pyenv virtualenv project_name\n",
    "## then\n",
    "# pyenv local project_name"
   ]
  },
  {
   "cell_type": "code",
   "execution_count": null,
   "metadata": {},
   "outputs": [],
   "source": [
    "# ADD INTO REQUIREMENTS.TXT"
   ]
  }
 ],
 "metadata": {
  "kernelspec": {
   "display_name": "Python 3",
   "language": "python",
   "name": "python3"
  },
  "language_info": {
   "codemirror_mode": {
    "name": "ipython",
    "version": 3
   },
   "file_extension": ".py",
   "mimetype": "text/x-python",
   "name": "python",
   "nbconvert_exporter": "python",
   "pygments_lexer": "ipython3",
   "version": "3.10.6"
  }
 },
 "nbformat": 4,
 "nbformat_minor": 2
}
