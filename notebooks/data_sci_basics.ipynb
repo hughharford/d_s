{
 "cells": [
  {
   "cell_type": "markdown",
   "metadata": {},
   "source": [
    "# A very straightforward notebook\n",
    "### to bring together a range of useful basic data eng and data sci techniques\n",
    "\n",
    "Contents:\n",
    "  Import statement\n",
    "  "
   ]
  },
  {
   "cell_type": "markdown",
   "metadata": {},
   "source": [
    "### Broad import statement"
   ]
  },
  {
   "cell_type": "code",
   "execution_count": 2,
   "metadata": {},
   "outputs": [],
   "source": [
    "# data sourcing:\n",
    "import csv\n",
    "\n",
    "# databases:\n",
    "import sqlite3"
   ]
  },
  {
   "cell_type": "markdown",
   "metadata": {},
   "source": [
    "#"
   ]
  },
  {
   "cell_type": "markdown",
   "metadata": {},
   "source": [
    "# Python Basics"
   ]
  },
  {
   "cell_type": "code",
   "execution_count": 7,
   "metadata": {},
   "outputs": [
    {
     "data": {
      "text/plain": [
       "'string formats string thing and ints 33'"
      ]
     },
     "execution_count": 7,
     "metadata": {},
     "output_type": "execute_result"
    }
   ],
   "source": [
    "# string methods:\n",
    "# https://docs.python.org/3.7/tutorial/introduction.html#strings\n",
    "a_string = \"some. thing. thingy\"\n",
    "a_word = \"thing\"\n",
    "a_substring = 'ing'\n",
    "a_string.replace(\" \", \", \") # replaces . with a ,\n",
    "a_word in a_string # returns true if found\n",
    "a_string.count(a_substring) # returns how many times a_substring occurs in a_string\n",
    "a_string[-1] == \"?\" # true if ends with ?\n",
    "a_string.strip() # removes trailing and preceding whitespace\n",
    "a_string.capitalize()\n",
    "first_name = \"john\"\n",
    "last_name = \"doe\"\n",
    "age = 33\n",
    "\"{} {} is {}\".format(first_name.capitalize(), last_name.capitalize(), str(age)) # formatting string\n",
    "f\"string formats string {a_word} and ints {str(age)}\""
   ]
  },
  {
   "cell_type": "markdown",
   "metadata": {},
   "source": [
    "# basic data structures:\n",
    "- [Lists](https://docs.python.org/3.7/tutorial/introduction.html#lists), called _array_ in other languages\n",
    "- [More on lists](https://docs.python.org/3.7/tutorial/datastructures.html#more-on-lists)\n",
    "- [List Comprehensions](https://docs.python.org/3.7/tutorial/datastructures.html#list-comprehensions)\n",
    "- [Tuples](https://docs.python.org/3.7/tutorial/datastructures.html#tuples-and-sequences)\n",
    "- [Dictionaries](https://docs.python.org/3.7/tutorial/datastructures.html#dictionaries), called _hash_ or _hashmap_ in other languages\n",
    "- [Looping Techniques](https://docs.python.org/3.7/tutorial/datastructures.html#looping-techniques) with the `for` keyword"
   ]
  },
  {
   "cell_type": "code",
   "execution_count": 8,
   "metadata": {},
   "outputs": [],
   "source": [
    "## remember, the following are found in the data-challenges-reboot 01-Python/01-Programming-Basics folder:\n",
    "    # debugging\n",
    "    # system parameters i.e: sys.argv[1]\n",
    "    # environment variables, i.e: os.getenv(\"FLASK_ENV\")"
   ]
  },
  {
   "cell_type": "markdown",
   "metadata": {},
   "source": [
    "## Data Sourcing / Source data\n",
    "### Found in 01-Python/02-Data-Sourcing"
   ]
  },
  {
   "cell_type": "code",
   "execution_count": null,
   "metadata": {},
   "outputs": [],
   "source": [
    "# reading csv files into python (as list):\n",
    "\n",
    "print(\"with csv.reader(file): \\n\")\n",
    "with open('../data/phone_book.csv', mode='r') as csv_file:\n",
    "    csv_reader = csv.reader(csv_file)\n",
    "    line_count = 0\n",
    "    for row in csv_reader:\n",
    "        if line_count != 0: # ie. skip header\n",
    "            print(', '.join('%s'%x for x in row))\n",
    "        line_count += 1"
   ]
  },
  {
   "cell_type": "markdown",
   "metadata": {},
   "source": []
  },
  {
   "cell_type": "code",
   "execution_count": null,
   "metadata": {},
   "outputs": [],
   "source": [
    "# reading csv files into python (as dict):\n",
    "\n",
    "print(\"with csv.dictreader: \\n\")\n",
    "with open('../data/phone_book.csv', mode='r') as csv_file:\n",
    "    dict_reader = csv.DictReader(csv_file)\n",
    "    for row in dict_reader:\n",
    "        print(row.values())\n",
    "        print(\", \".join('%s'%x for x in row.values()))"
   ]
  },
  {
   "cell_type": "code",
   "execution_count": 13,
   "metadata": {},
   "outputs": [],
   "source": [
    "# APIs and scraping: see examples in 01-Python/02-Data-Sourcing"
   ]
  },
  {
   "cell_type": "markdown",
   "metadata": {},
   "source": [
    "# SQL and database basics\n",
    "## use db:\n",
    "### https://www.kaggle.com/datasets/hugomathien/soccer\n",
    " "
   ]
  },
  {
   "cell_type": "markdown",
   "metadata": {},
   "source": [
    "### DBeaver:"
   ]
  },
  {
   "cell_type": "code",
   "execution_count": null,
   "metadata": {},
   "outputs": [],
   "source": [
    "# install dbeaver with\n",
    "# sudo add-apt-repository ppa:serge-rider/dbeaver-ce\n",
    "# sudo apt-get update\n",
    "# sudo apt-get install dbeaver-ce\n",
    "\n",
    "# run from the command line with:\n",
    "# dbeaver-ce"
   ]
  },
  {
   "cell_type": "code",
   "execution_count": null,
   "metadata": {},
   "outputs": [],
   "source": [
    "# order of SQL operations matters:"
   ]
  },
  {
   "cell_type": "markdown",
   "metadata": {},
   "source": [
    "![image.png](https://cdn.sisense.com/wp-content/uploads/image-1-order-blog.png)"
   ]
  },
  {
   "cell_type": "code",
   "execution_count": 3,
   "metadata": {},
   "outputs": [],
   "source": [
    "# python access to database:\n",
    "db_path_movies = '../data/movies.sqlite'\n",
    "# import sqlite3\n",
    "conn = sqlite3.connect(db_path_movies)\n",
    "c = conn.cursor()"
   ]
  },
  {
   "cell_type": "code",
   "execution_count": 33,
   "metadata": {},
   "outputs": [
    {
     "data": {
      "text/plain": [
       "'Georges Méliès'"
      ]
     },
     "execution_count": 33,
     "metadata": {},
     "output_type": "execute_result"
    }
   ],
   "source": [
    "# SQL run the commands:\n",
    "c.execute(\"SELECT * FROM directors\")\n",
    "rows = c.fetchall()\n",
    "first_row = rows[0]\n",
    "first_row[0]"
   ]
  },
  {
   "cell_type": "code",
   "execution_count": 4,
   "metadata": {},
   "outputs": [
    {
     "data": {
      "text/plain": [
       "['name', 'birth_year', 'death_year', 'imdb_director_id', 'id']"
      ]
     },
     "execution_count": 4,
     "metadata": {},
     "output_type": "execute_result"
    }
   ],
   "source": [
    "# SQL fetch list of row elements:\n",
    "conn = sqlite3.connect(db_path_movies)\n",
    "conn.row_factory = sqlite3.Row\n",
    "c = conn.cursor()\n",
    "\n",
    "c.execute(\"SELECT * FROM directors\")\n",
    "rows = c.fetchall()\n",
    "first_row = rows[0]\n",
    "\n",
    "first_row['birth_year'] # table field names: name, birth_year, death_year, imdb_director_id, id\n",
    "first_row.keys()"
   ]
  },
  {
   "cell_type": "code",
   "execution_count": 42,
   "metadata": {},
   "outputs": [
    {
     "data": {
      "text/plain": [
       "('Georges Méliès', 1861, 1938, 'nm0617588', 1)"
      ]
     },
     "execution_count": 42,
     "metadata": {},
     "output_type": "execute_result"
    }
   ],
   "source": [
    "tuple(first_row)"
   ]
  },
  {
   "cell_type": "code",
   "execution_count": 43,
   "metadata": {},
   "outputs": [
    {
     "data": {
      "text/plain": [
       "['Georges Méliès', 1861, 1938, 'nm0617588', 1]"
      ]
     },
     "execution_count": 43,
     "metadata": {},
     "output_type": "execute_result"
    }
   ],
   "source": [
    "list(first_row)"
   ]
  },
  {
   "cell_type": "code",
   "execution_count": 47,
   "metadata": {},
   "outputs": [
    {
     "name": "stdout",
     "output_type": "stream",
     "text": [
      "David Lynch - 1946\n"
     ]
    }
   ],
   "source": [
    "# SQL use fetchone when relevant:\n",
    "c.execute(\"SELECT * FROM directors WHERE directors.imdb_director_id = 'nm0000186'\")\n",
    "row = c.fetchone()\n",
    "print(row[0], '-' ,row[1])"
   ]
  },
  {
   "cell_type": "code",
   "execution_count": 52,
   "metadata": {},
   "outputs": [
    {
     "name": "stdout",
     "output_type": "stream",
     "text": [
      "D.W. Griffith 1875 1948 nm0000428 4\n"
     ]
    }
   ],
   "source": [
    "# SQL Projection - select columns in the query:\n",
    "query = \"SELECT d.id, d.name, d.birth_year FROM directors AS d\"\n",
    "# NB - alias\n",
    "\n",
    "# SQL Selection- select row:\n",
    "query = \"\"\"\n",
    "SELECT *\n",
    "FROM directors AS d\n",
    "WHERE d.name = 'D.W. Griffith'\n",
    "\"\"\"\n",
    "c.execute(query)\n",
    "row = c.fetchone()\n",
    "print(f'{row[0]} {row[1]} {row[2]} {row[3]} {row[4]}')"
   ]
  },
  {
   "cell_type": "code",
   "execution_count": 53,
   "metadata": {},
   "outputs": [],
   "source": [
    "# SQL  multiple selections:\n",
    "\n",
    "query =\"\"\"SELECT *\n",
    "FROM directors AS d\n",
    "WHERE d.name = 'D.W. Griffith'\n",
    "OR d.name = 'David Lynch'\"\"\"\n",
    "\n",
    "query = \"\"\"SELECT *\n",
    "FROM directors AS d\n",
    "WHERE d.name IN ('D.W. Griffith', 'David Lynch')\"\"\"\n",
    "\n",
    "query =\"\"\"SELECT *\n",
    "FROM movies AS m\n",
    "WHERE UPPER(m.title) LIKE 'THE %'\"\"\" # all movies starting with \"THE \""
   ]
  },
  {
   "cell_type": "code",
   "execution_count": null,
   "metadata": {},
   "outputs": [],
   "source": [
    "# SQL counting\n",
    "q = \"\"\"SELECT COUNT(directors.id)\n",
    "FROM directors\n",
    "WHERE directors.birth_year >= 1980\n",
    "\"\"\""
   ]
  },
  {
   "cell_type": "code",
   "execution_count": 85,
   "metadata": {},
   "outputs": [],
   "source": [
    "# SQL sorting:\n",
    "q = \"\"\"SELECT *\n",
    "FROM directors AS d\n",
    "ORDER BY d.birth_year DESC\n",
    "LIMIT 10\"\"\""
   ]
  },
  {
   "cell_type": "code",
   "execution_count": 100,
   "metadata": {},
   "outputs": [
    {
     "name": "stdout",
     "output_type": "stream",
     "text": [
      "[('A.R. Murugadoss',), ('Aamir Khan',), ('Aanand L. Rai',), ('Aaron Hann',), ('Aaron Harvey',), ('Aaron Horvath',), ('Aaron Lipstadt',), ('Aaron Moorhead',), ('Aaron Schneider',), ('Aaron Seltzer',)]\n"
     ]
    }
   ],
   "source": [
    "query = \"\"\"SELECT d.name\n",
    "            FROM directors AS d\n",
    "            ORDER BY d.name\n",
    "            LIMIT 10\"\"\"\n",
    "c.execute(query)\n",
    "rows = c.fetchall()\n",
    "first_row = rows[0]\n",
    "\n",
    "print(rows)\n",
    "\n",
    "# for r in rows:\n",
    "#     print(f\"{r[0]}\")"
   ]
  },
  {
   "cell_type": "code",
   "execution_count": 56,
   "metadata": {},
   "outputs": [],
   "source": [
    "db_path_soccer = '../data/soccer.sqlite'\n",
    "conn = sqlite3.connect(db_path_soccer)\n",
    "conn.row_factory = sqlite3.Row\n",
    "c = conn.cursor()"
   ]
  },
  {
   "cell_type": "code",
   "execution_count": 58,
   "metadata": {},
   "outputs": [
    {
     "name": "stdout",
     "output_type": "stream",
     "text": [
      "1728\n"
     ]
    }
   ],
   "source": [
    "# GROUPING:\n",
    "# Grouping rows on a given column C (aggregating rows with a function where values of C column are the same)\n",
    "\n",
    "# how many matches played per country:\n",
    "query = \"\"\"SELECT COUNT(matches.id), matches.country_id\n",
    "FROM \"Match\" AS matches\n",
    "GROUP BY matches.country_id\"\"\"\n",
    "\n",
    "c.execute(query)\n",
    "row = c.fetchone()\n",
    "print(f'{row[0]}')"
   ]
  },
  {
   "cell_type": "code",
   "execution_count": 71,
   "metadata": {},
   "outputs": [
    {
     "name": "stdout",
     "output_type": "stream",
     "text": [
      "Matches: 3040 Country id: 21518\n",
      "Matches: 3040 Country id: 4769\n",
      "Matches: 3040 Country id: 1729\n",
      "Matches: 3017 Country id: 10257\n"
     ]
    }
   ],
   "source": [
    "# What if we want to sort those results? We need an alias:\n",
    "query1 = \"\"\"SELECT COUNT(matches.id) AS match_count, matches.country_id\n",
    "FROM \"Match\" AS matches\n",
    "GROUP BY matches.country_id\n",
    "ORDER BY match_count DESC\"\"\"\n",
    "\n",
    "query2 = \"\"\"SELECT COUNT(matches.id) AS match_count, matches.country_id\n",
    "FROM \"Match\" AS matches\n",
    "GROUP BY matches.country_id\n",
    "HAVING match_count >= 3000\n",
    "ORDER BY match_count DESC\"\"\"\n",
    "\n",
    "c.execute(query2)\n",
    "rows = c.fetchall()\n",
    "\n",
    "for r in rows:\n",
    "    print(f\"Matches: {r['match_count']} Country id: {r['country_id']}\")\n"
   ]
  },
  {
   "cell_type": "code",
   "execution_count": 76,
   "metadata": {},
   "outputs": [
    {
     "name": "stdout",
     "output_type": "stream",
     "text": [
      "11917 home_win\n",
      "7466 away_win\n",
      "6596 draw\n"
     ]
    }
   ],
   "source": [
    "# naming outcomes and calculating using CASE & END AS\n",
    "\n",
    "# note conditional equals in SQL as single =\n",
    "\n",
    "# How many matches were\n",
    "    # won by the home team?\n",
    "    # won by the away team?\n",
    "    # finished with a draw?\n",
    "\n",
    "query = \"\"\"\n",
    "SELECT\n",
    "COUNT(matches.id) AS outcome_count,\n",
    "CASE\n",
    "    WHEN matches.home_team_goal > matches.away_team_goal\n",
    "        THEN 'home_win'\n",
    "    WHEN matches.home_team_goal = matches.away_team_goal\n",
    "        THEN 'draw'\n",
    "    ELSE 'away_win'\n",
    "END AS outcome\n",
    "FROM \"Match\" AS matches\n",
    "GROUP BY outcome\n",
    "ORDER BY outcome_count DESC\"\"\"\n",
    "\n",
    "c.execute(query)\n",
    "rows = c.fetchall()\n",
    "first_row = rows[0]\n",
    "first_row.keys()\n",
    "\n",
    "for r in rows:\n",
    "    print(f\"{r['outcome_count']} {r['outcome']}\")\n"
   ]
  },
  {
   "cell_type": "code",
   "execution_count": 84,
   "metadata": {},
   "outputs": [
    {
     "name": "stdout",
     "output_type": "stream",
     "text": [
      " Belgium Jupiler League\n",
      " England Premier League\n",
      " France Ligue 1\n",
      " Germany 1. Bundesliga\n",
      " Italy Serie A\n",
      " Netherlands Eredivisie\n",
      " Poland Ekstraklasa\n",
      " Portugal Liga ZON Sagres\n",
      " Scotland Premier League\n",
      " Spain LIGA BBVA\n",
      " Switzerland Super League\n"
     ]
    }
   ],
   "source": [
    "# Querying multiple tables:\n",
    "\n",
    "query = \"\"\"\n",
    "SELECT League.name as LeagueName, Country.name as CountryName\n",
    "FROM League\n",
    "JOIN Country ON League.country_id = Country.id\"\"\"\n",
    "\n",
    "c.execute(query)\n",
    "rows = c.fetchall()\n",
    "first_row = rows[0]\n",
    "first_row.keys()\n",
    "\n",
    "for r in rows:\n",
    "    print(f\" {r['LeagueName']}\") # including CountryName looks like a duplicate"
   ]
  },
  {
   "cell_type": "code",
   "execution_count": null,
   "metadata": {},
   "outputs": [],
   "source": [
    "# string selection with SQL with (movies db):\n",
    "exclude = 'cloverfield'\n",
    "query = f'''SELECT m.title\n",
    "        FROM movies AS m\n",
    "        WHERE UPPER(title) LIKE '% LOVE %'\n",
    "        OR UPPER(title) LIKE 'LOVE %'\n",
    "        OR UPPER(title) LIKE 'LOVE,%'\n",
    "        AND m.title NOT LIKE \"%{exclude}%\"\n",
    "        ORDER BY m.title'''"
   ]
  },
  {
   "cell_type": "code",
   "execution_count": null,
   "metadata": {},
   "outputs": [],
   "source": [
    "# doing maths on the fly and naming columns:\n",
    "query = \"\"\"SELECT d.name,\n",
    "            (m.start_year - d.birth_year) age\n",
    "            FROM directors AS d\n",
    "            JOIN movies AS m ON m.director_id = d.id\n",
    "            WHERE age IS NOT NULL\n",
    "            ORDER BY age\n",
    "            LIMIT 5\n",
    "            \"\"\""
   ]
  },
  {
   "cell_type": "code",
   "execution_count": null,
   "metadata": {},
   "outputs": [],
   "source": [
    "# numerical bucketing is simply done this way:\n",
    "# 30 buckets achieved by / 30 + 1, with *30 gives the labels to time_range\n",
    "query = \"\"\"SELECT\n",
    "        (minutes / 30 + 1)*30 time_range,\n",
    "        COUNT(*)\n",
    "    FROM movies\n",
    "    WHERE minutes IS NOT NULL\n",
    "    GROUP BY time_range\"\"\"\n",
    "    # neat and quick"
   ]
  }
 ],
 "metadata": {
  "kernelspec": {
   "display_name": "initial_env",
   "language": "python",
   "name": "python3"
  },
  "language_info": {
   "codemirror_mode": {
    "name": "ipython",
    "version": 3
   },
   "file_extension": ".py",
   "mimetype": "text/x-python",
   "name": "python",
   "nbconvert_exporter": "python",
   "pygments_lexer": "ipython3",
   "version": "3.10.6"
  }
 },
 "nbformat": 4,
 "nbformat_minor": 2
}
