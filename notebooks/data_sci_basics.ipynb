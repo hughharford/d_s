{
 "cells": [
  {
   "cell_type": "markdown",
   "metadata": {},
   "source": [
    "# A very straightforward notebook\n",
    "### to bring together a range of useful basic data eng and data sci techniques\n",
    "\n",
    "Contents:\n",
    "  Import statement\n",
    "  "
   ]
  },
  {
   "cell_type": "markdown",
   "metadata": {},
   "source": [
    "### Broad import statement"
   ]
  },
  {
   "cell_type": "code",
   "execution_count": 12,
   "metadata": {},
   "outputs": [],
   "source": [
    "# data sourcing:\n",
    "import csv\n",
    "\n",
    "# databases:\n",
    "import sqlite3\n",
    "\n",
    "# data toolkit:\n",
    "import numpy as np\n",
    "import pandas as pd\n",
    "\n",
    "# plotting\n",
    "import matplotlib"
   ]
  },
  {
   "cell_type": "markdown",
   "metadata": {},
   "source": [
    "# CHEATSHEETS\n",
    "[SQL Cheatsheet](https://learnsql.com/blog/ultimate-sql-cheat-sheet/All-sql-cheat-sheet-a4.pdf)\n",
    "\n",
    "[Numpy Cheatsheet](https://s3.amazonaws.com/assets.datacamp.com/blog_assets/Numpy_Python_Cheat_Sheet.pdf)"
   ]
  },
  {
   "cell_type": "markdown",
   "metadata": {},
   "source": [
    "#"
   ]
  },
  {
   "cell_type": "markdown",
   "metadata": {},
   "source": [
    "# Python Basics"
   ]
  },
  {
   "cell_type": "code",
   "execution_count": 7,
   "metadata": {},
   "outputs": [
    {
     "data": {
      "text/plain": [
       "'string formats string thing and ints 33'"
      ]
     },
     "execution_count": 7,
     "metadata": {},
     "output_type": "execute_result"
    }
   ],
   "source": [
    "# string methods:\n",
    "# https://docs.python.org/3.7/tutorial/introduction.html#strings\n",
    "a_string = \"some. thing. thingy\"\n",
    "a_word = \"thing\"\n",
    "a_substring = 'ing'\n",
    "a_string.replace(\" \", \", \") # replaces . with a ,\n",
    "a_word in a_string # returns true if found\n",
    "a_string.count(a_substring) # returns how many times a_substring occurs in a_string\n",
    "a_string[-1] == \"?\" # true if ends with ?\n",
    "a_string.strip() # removes trailing and preceding whitespace\n",
    "a_string.capitalize()\n",
    "first_name = \"john\"\n",
    "last_name = \"doe\"\n",
    "age = 33\n",
    "\"{} {} is {}\".format(first_name.capitalize(), last_name.capitalize(), str(age)) # formatting string\n",
    "f\"string formats string {a_word} and ints {str(age)}\""
   ]
  },
  {
   "cell_type": "markdown",
   "metadata": {},
   "source": [
    "# basic data structures:\n",
    "- [Lists](https://docs.python.org/3.7/tutorial/introduction.html#lists), called _array_ in other languages\n",
    "- [More on lists](https://docs.python.org/3.7/tutorial/datastructures.html#more-on-lists)\n",
    "- [List Comprehensions](https://docs.python.org/3.7/tutorial/datastructures.html#list-comprehensions)\n",
    "- [Tuples](https://docs.python.org/3.7/tutorial/datastructures.html#tuples-and-sequences)\n",
    "- [Dictionaries](https://docs.python.org/3.7/tutorial/datastructures.html#dictionaries), called _hash_ or _hashmap_ in other languages\n",
    "- [Looping Techniques](https://docs.python.org/3.7/tutorial/datastructures.html#looping-techniques) with the `for` keyword"
   ]
  },
  {
   "cell_type": "code",
   "execution_count": 8,
   "metadata": {},
   "outputs": [],
   "source": [
    "## remember, the following are found in the data-challenges-reboot 01-Python/01-Programming-Basics folder:\n",
    "    # debugging\n",
    "    # system parameters i.e: sys.argv[1]\n",
    "    # environment variables, i.e: os.getenv(\"FLASK_ENV\")"
   ]
  },
  {
   "cell_type": "markdown",
   "metadata": {},
   "source": [
    "## Data Sourcing / Source data\n",
    "### Found in 01-Python/02-Data-Sourcing"
   ]
  },
  {
   "cell_type": "code",
   "execution_count": null,
   "metadata": {},
   "outputs": [],
   "source": [
    "# reading csv files into python (as list):\n",
    "\n",
    "print(\"with csv.reader(file): \\n\")\n",
    "with open('../data/phone_book.csv', mode='r') as csv_file:\n",
    "    csv_reader = csv.reader(csv_file)\n",
    "    line_count = 0\n",
    "    for row in csv_reader:\n",
    "        if line_count != 0: # ie. skip header\n",
    "            print(', '.join('%s'%x for x in row))\n",
    "        line_count += 1"
   ]
  },
  {
   "cell_type": "markdown",
   "metadata": {},
   "source": []
  },
  {
   "cell_type": "code",
   "execution_count": null,
   "metadata": {},
   "outputs": [],
   "source": [
    "# reading csv files into python (as dict):\n",
    "\n",
    "print(\"with csv.dictreader: \\n\")\n",
    "with open('../data/phone_book.csv', mode='r') as csv_file:\n",
    "    dict_reader = csv.DictReader(csv_file)\n",
    "    for row in dict_reader:\n",
    "        print(row.values())\n",
    "        print(\", \".join('%s'%x for x in row.values()))"
   ]
  },
  {
   "cell_type": "code",
   "execution_count": 13,
   "metadata": {},
   "outputs": [],
   "source": [
    "# APIs and scraping: see examples in 01-Python/02-Data-Sourcing"
   ]
  },
  {
   "cell_type": "markdown",
   "metadata": {},
   "source": [
    "# SQL and database basics\n",
    "## use db:\n",
    "### https://www.kaggle.com/datasets/hugomathien/soccer\n",
    " "
   ]
  },
  {
   "cell_type": "markdown",
   "metadata": {},
   "source": [
    "### [SQL Cheatsheet](https://learnsql.com/blog/ultimate-sql-cheat-sheet/All-sql-cheat-sheet-a4.pdf)"
   ]
  },
  {
   "cell_type": "markdown",
   "metadata": {},
   "source": [
    "### DBeaver:"
   ]
  },
  {
   "cell_type": "code",
   "execution_count": null,
   "metadata": {},
   "outputs": [],
   "source": [
    "# install dbeaver with\n",
    "# sudo add-apt-repository ppa:serge-rider/dbeaver-ce\n",
    "# sudo apt-get update\n",
    "# sudo apt-get install dbeaver-ce\n",
    "\n",
    "# run from the command line with:\n",
    "# dbeaver-ce"
   ]
  },
  {
   "cell_type": "code",
   "execution_count": null,
   "metadata": {},
   "outputs": [],
   "source": [
    "# order of SQL operations matters:"
   ]
  },
  {
   "cell_type": "markdown",
   "metadata": {},
   "source": [
    "![image.png](https://cdn.sisense.com/wp-content/uploads/image-1-order-blog.png)"
   ]
  },
  {
   "cell_type": "code",
   "execution_count": 3,
   "metadata": {},
   "outputs": [],
   "source": [
    "# python access to database:\n",
    "db_path_movies = '../data/movies.sqlite'\n",
    "# import sqlite3\n",
    "conn = sqlite3.connect(db_path_movies)\n",
    "c = conn.cursor()"
   ]
  },
  {
   "cell_type": "code",
   "execution_count": 33,
   "metadata": {},
   "outputs": [
    {
     "data": {
      "text/plain": [
       "'Georges Méliès'"
      ]
     },
     "execution_count": 33,
     "metadata": {},
     "output_type": "execute_result"
    }
   ],
   "source": [
    "# SQL run the commands:\n",
    "c.execute(\"SELECT * FROM directors\")\n",
    "rows = c.fetchall()\n",
    "first_row = rows[0]\n",
    "first_row[0]"
   ]
  },
  {
   "cell_type": "code",
   "execution_count": 4,
   "metadata": {},
   "outputs": [
    {
     "data": {
      "text/plain": [
       "['name', 'birth_year', 'death_year', 'imdb_director_id', 'id']"
      ]
     },
     "execution_count": 4,
     "metadata": {},
     "output_type": "execute_result"
    }
   ],
   "source": [
    "# SQL fetch list of row elements:\n",
    "conn = sqlite3.connect(db_path_movies)\n",
    "conn.row_factory = sqlite3.Row\n",
    "c = conn.cursor()\n",
    "\n",
    "c.execute(\"SELECT * FROM directors\")\n",
    "rows = c.fetchall()\n",
    "first_row = rows[0]\n",
    "\n",
    "first_row['birth_year'] # table field names: name, birth_year, death_year, imdb_director_id, id\n",
    "first_row.keys()"
   ]
  },
  {
   "cell_type": "code",
   "execution_count": 42,
   "metadata": {},
   "outputs": [
    {
     "data": {
      "text/plain": [
       "('Georges Méliès', 1861, 1938, 'nm0617588', 1)"
      ]
     },
     "execution_count": 42,
     "metadata": {},
     "output_type": "execute_result"
    }
   ],
   "source": [
    "tuple(first_row)"
   ]
  },
  {
   "cell_type": "code",
   "execution_count": 43,
   "metadata": {},
   "outputs": [
    {
     "data": {
      "text/plain": [
       "['Georges Méliès', 1861, 1938, 'nm0617588', 1]"
      ]
     },
     "execution_count": 43,
     "metadata": {},
     "output_type": "execute_result"
    }
   ],
   "source": [
    "list(first_row)"
   ]
  },
  {
   "cell_type": "code",
   "execution_count": 47,
   "metadata": {},
   "outputs": [
    {
     "name": "stdout",
     "output_type": "stream",
     "text": [
      "David Lynch - 1946\n"
     ]
    }
   ],
   "source": [
    "# SQL use fetchone when relevant:\n",
    "c.execute(\"SELECT * FROM directors WHERE directors.imdb_director_id = 'nm0000186'\")\n",
    "row = c.fetchone()\n",
    "print(row[0], '-' ,row[1])"
   ]
  },
  {
   "cell_type": "code",
   "execution_count": 52,
   "metadata": {},
   "outputs": [
    {
     "name": "stdout",
     "output_type": "stream",
     "text": [
      "D.W. Griffith 1875 1948 nm0000428 4\n"
     ]
    }
   ],
   "source": [
    "# SQL Projection - select columns in the query:\n",
    "query = \"SELECT d.id, d.name, d.birth_year FROM directors AS d\"\n",
    "# NB - alias\n",
    "\n",
    "# SQL Selection- select row:\n",
    "query = \"\"\"\n",
    "SELECT *\n",
    "FROM directors AS d\n",
    "WHERE d.name = 'D.W. Griffith'\n",
    "\"\"\"\n",
    "c.execute(query)\n",
    "row = c.fetchone()\n",
    "print(f'{row[0]} {row[1]} {row[2]} {row[3]} {row[4]}')"
   ]
  },
  {
   "cell_type": "code",
   "execution_count": 53,
   "metadata": {},
   "outputs": [],
   "source": [
    "# SQL  multiple selections:\n",
    "\n",
    "query =\"\"\"SELECT *\n",
    "FROM directors AS d\n",
    "WHERE d.name = 'D.W. Griffith'\n",
    "OR d.name = 'David Lynch'\"\"\"\n",
    "\n",
    "query = \"\"\"SELECT *\n",
    "FROM directors AS d\n",
    "WHERE d.name IN ('D.W. Griffith', 'David Lynch')\"\"\"\n",
    "\n",
    "query =\"\"\"SELECT *\n",
    "FROM movies AS m\n",
    "WHERE UPPER(m.title) LIKE 'THE %'\"\"\" # all movies starting with \"THE \""
   ]
  },
  {
   "cell_type": "code",
   "execution_count": null,
   "metadata": {},
   "outputs": [],
   "source": [
    "# SQL counting\n",
    "q = \"\"\"SELECT COUNT(directors.id)\n",
    "FROM directors\n",
    "WHERE directors.birth_year >= 1980\n",
    "\"\"\""
   ]
  },
  {
   "cell_type": "code",
   "execution_count": 85,
   "metadata": {},
   "outputs": [],
   "source": [
    "# SQL sorting:\n",
    "q = \"\"\"SELECT *\n",
    "FROM directors AS d\n",
    "ORDER BY d.birth_year DESC\n",
    "LIMIT 10\"\"\""
   ]
  },
  {
   "cell_type": "code",
   "execution_count": 100,
   "metadata": {},
   "outputs": [
    {
     "name": "stdout",
     "output_type": "stream",
     "text": [
      "[('A.R. Murugadoss',), ('Aamir Khan',), ('Aanand L. Rai',), ('Aaron Hann',), ('Aaron Harvey',), ('Aaron Horvath',), ('Aaron Lipstadt',), ('Aaron Moorhead',), ('Aaron Schneider',), ('Aaron Seltzer',)]\n"
     ]
    }
   ],
   "source": [
    "query = \"\"\"SELECT d.name\n",
    "            FROM directors AS d\n",
    "            ORDER BY d.name\n",
    "            LIMIT 10\"\"\"\n",
    "c.execute(query)\n",
    "rows = c.fetchall()\n",
    "first_row = rows[0]\n",
    "\n",
    "print(rows)\n",
    "\n",
    "# for r in rows:\n",
    "#     print(f\"{r[0]}\")"
   ]
  },
  {
   "cell_type": "code",
   "execution_count": 56,
   "metadata": {},
   "outputs": [],
   "source": [
    "db_path_soccer = '../data/soccer.sqlite'\n",
    "conn = sqlite3.connect(db_path_soccer)\n",
    "conn.row_factory = sqlite3.Row\n",
    "c = conn.cursor()"
   ]
  },
  {
   "cell_type": "code",
   "execution_count": 58,
   "metadata": {},
   "outputs": [
    {
     "name": "stdout",
     "output_type": "stream",
     "text": [
      "1728\n"
     ]
    }
   ],
   "source": [
    "# GROUPING:\n",
    "# Grouping rows on a given column C (aggregating rows with a function where values of C column are the same)\n",
    "\n",
    "# how many matches played per country:\n",
    "query = \"\"\"SELECT COUNT(matches.id), matches.country_id\n",
    "FROM \"Match\" AS matches\n",
    "GROUP BY matches.country_id\"\"\"\n",
    "\n",
    "c.execute(query)\n",
    "row = c.fetchone()\n",
    "print(f'{row[0]}')"
   ]
  },
  {
   "cell_type": "code",
   "execution_count": 71,
   "metadata": {},
   "outputs": [
    {
     "name": "stdout",
     "output_type": "stream",
     "text": [
      "Matches: 3040 Country id: 21518\n",
      "Matches: 3040 Country id: 4769\n",
      "Matches: 3040 Country id: 1729\n",
      "Matches: 3017 Country id: 10257\n"
     ]
    }
   ],
   "source": [
    "# What if we want to sort those results? We need an alias:\n",
    "query1 = \"\"\"SELECT COUNT(matches.id) AS match_count, matches.country_id\n",
    "FROM \"Match\" AS matches\n",
    "GROUP BY matches.country_id\n",
    "ORDER BY match_count DESC\"\"\"\n",
    "\n",
    "query2 = \"\"\"SELECT COUNT(matches.id) AS match_count, matches.country_id\n",
    "FROM \"Match\" AS matches\n",
    "GROUP BY matches.country_id\n",
    "HAVING match_count >= 3000\n",
    "ORDER BY match_count DESC\"\"\"\n",
    "\n",
    "c.execute(query2)\n",
    "rows = c.fetchall()\n",
    "\n",
    "for r in rows:\n",
    "    print(f\"Matches: {r['match_count']} Country id: {r['country_id']}\")\n"
   ]
  },
  {
   "cell_type": "code",
   "execution_count": 76,
   "metadata": {},
   "outputs": [
    {
     "name": "stdout",
     "output_type": "stream",
     "text": [
      "11917 home_win\n",
      "7466 away_win\n",
      "6596 draw\n"
     ]
    }
   ],
   "source": [
    "# naming outcomes and calculating using CASE & END AS\n",
    "\n",
    "# note conditional equals in SQL as single =\n",
    "\n",
    "# How many matches were\n",
    "    # won by the home team?\n",
    "    # won by the away team?\n",
    "    # finished with a draw?\n",
    "\n",
    "query = \"\"\"\n",
    "SELECT\n",
    "COUNT(matches.id) AS outcome_count,\n",
    "CASE\n",
    "    WHEN matches.home_team_goal > matches.away_team_goal\n",
    "        THEN 'home_win'\n",
    "    WHEN matches.home_team_goal = matches.away_team_goal\n",
    "        THEN 'draw'\n",
    "    ELSE 'away_win'\n",
    "END AS outcome\n",
    "FROM \"Match\" AS matches\n",
    "GROUP BY outcome\n",
    "ORDER BY outcome_count DESC\"\"\"\n",
    "\n",
    "c.execute(query)\n",
    "rows = c.fetchall()\n",
    "first_row = rows[0]\n",
    "first_row.keys()\n",
    "\n",
    "for r in rows:\n",
    "    print(f\"{r['outcome_count']} {r['outcome']}\")\n"
   ]
  },
  {
   "cell_type": "code",
   "execution_count": 84,
   "metadata": {},
   "outputs": [
    {
     "name": "stdout",
     "output_type": "stream",
     "text": [
      " Belgium Jupiler League\n",
      " England Premier League\n",
      " France Ligue 1\n",
      " Germany 1. Bundesliga\n",
      " Italy Serie A\n",
      " Netherlands Eredivisie\n",
      " Poland Ekstraklasa\n",
      " Portugal Liga ZON Sagres\n",
      " Scotland Premier League\n",
      " Spain LIGA BBVA\n",
      " Switzerland Super League\n"
     ]
    }
   ],
   "source": [
    "# Querying multiple tables:\n",
    "\n",
    "query = \"\"\"\n",
    "SELECT League.name as LeagueName, Country.name as CountryName\n",
    "FROM League\n",
    "JOIN Country ON League.country_id = Country.id\"\"\"\n",
    "\n",
    "c.execute(query)\n",
    "rows = c.fetchall()\n",
    "first_row = rows[0]\n",
    "first_row.keys()\n",
    "\n",
    "for r in rows:\n",
    "    print(f\" {r['LeagueName']}\") # including CountryName looks like a duplicate"
   ]
  },
  {
   "cell_type": "code",
   "execution_count": null,
   "metadata": {},
   "outputs": [],
   "source": [
    "# string selection with SQL with (movies db):\n",
    "exclude = 'cloverfield'\n",
    "query = f'''SELECT m.title\n",
    "        FROM movies AS m\n",
    "        WHERE UPPER(title) LIKE '% LOVE %'\n",
    "        OR UPPER(title) LIKE 'LOVE %'\n",
    "        OR UPPER(title) LIKE 'LOVE,%'\n",
    "        AND m.title NOT LIKE \"%{exclude}%\"\n",
    "        ORDER BY m.title'''"
   ]
  },
  {
   "cell_type": "code",
   "execution_count": null,
   "metadata": {},
   "outputs": [],
   "source": [
    "# doing maths on the fly and naming columns:\n",
    "query = \"\"\"SELECT d.name,\n",
    "            (m.start_year - d.birth_year) age\n",
    "            FROM directors AS d\n",
    "            JOIN movies AS m ON m.director_id = d.id\n",
    "            WHERE age IS NOT NULL\n",
    "            ORDER BY age\n",
    "            LIMIT 5\n",
    "            \"\"\""
   ]
  },
  {
   "cell_type": "code",
   "execution_count": null,
   "metadata": {},
   "outputs": [],
   "source": [
    "# numerical bucketing is simply done this way:\n",
    "# 30 buckets achieved by / 30 + 1, with *30 gives the labels to time_range\n",
    "query = \"\"\"SELECT\n",
    "        (minutes / 30 + 1)*30 time_range,\n",
    "        COUNT(*)\n",
    "    FROM movies\n",
    "    WHERE minutes IS NOT NULL\n",
    "    GROUP BY time_range\"\"\"\n",
    "    # neat and quick"
   ]
  },
  {
   "cell_type": "code",
   "execution_count": null,
   "metadata": {},
   "outputs": [],
   "source": [
    "# both the following queries achieve the same outcome\n",
    "# 'query' was my solution, I just needed the LEFT JOIN to achieve the same as\n",
    "# 'q_sol'\n",
    "# the WITH new_table_name AS (SELECT * FROM table_x etc) is powerful\n",
    "# this allows additional table definition on the fly\n",
    "\n",
    "# The SQL Command: COALESCE returns the first non-null result in the list\n",
    "# Used here to ensure 0 is returned if the count is null\n",
    "\n",
    "query = f\"\"\"SELECT\n",
    "        c.ContactName AS contact_name,\n",
    "        COUNT(o.OrderID) NoOrders\n",
    "        FROM Customers AS c\n",
    "        LEFT JOIN Orders as o ON o.CustomerID = c.CustomerID\n",
    "        GROUP BY contact_name\n",
    "        ORDER BY NoOrders\n",
    "        \"\"\"\n",
    "\n",
    "q_sol = \"\"\"\n",
    "    WITH no_orders AS (\n",
    "        SELECT *\n",
    "        FROM Customers c\n",
    "        LEFT JOIN Orders o ON o.CustomerID = c.CustomerID\n",
    "    )\n",
    "    SELECT\n",
    "        no_orders.ContactName\n",
    "        ,COALESCE(COUNT(no_orders.OrderID), 0) AS number_orders\n",
    "    FROM no_orders\n",
    "    GROUP BY no_orders.CustomerID\n",
    "    ORDER BY number_orders\n",
    "    \"\"\""
   ]
  },
  {
   "cell_type": "code",
   "execution_count": null,
   "metadata": {},
   "outputs": [],
   "source": [
    "# Window Functions like RANK or SUM with the OVER keyword.\n",
    "# https://mode.com/sql-tutorial/sql-window-functions\n",
    "\n",
    "'''Implement order_rank_per_customer to rank the orders of each\n",
    "customer according to the order date.\n",
    "For each customer, the orders should be ranked in the chronological order.\n",
    "This function should return a list of tuples like\n",
    "(OrderID, CustomerID, OrderDate, OrderRank).'''\n",
    "\n",
    "# Simple rank in order of something, in this case date\n",
    "\n",
    "query = f\"\"\"SELECT\n",
    "    o.OrderID,\n",
    "    c.CustomerID,\n",
    "    o.OrderDate,\n",
    "    RANK() OVER (PARTITION BY c.CustomerID\n",
    "        ORDER BY o.OrderDate)\n",
    "        AS OrderRank\n",
    "    FROM Orders as o\n",
    "    JOIN Customers AS c ON c.CustomerID = o.CustomerID\n",
    "    \"\"\"\n",
    "\n",
    "'''Implement order_cumulative_amount_per_customer to compute the\n",
    "cumulative amount (in USD) of the orders of each customer according\n",
    "to the order date.\n",
    "For each customer, the orders should be ranked in the chronological order.\n",
    "This function should return a list of tuples like\n",
    "(OrderID, CustomerID, OrderDate, OrderCumulativeAmount).'''\n",
    "\n",
    "#\n",
    "\n",
    "query = f\"\"\"\n",
    "    WITH order_sum AS (\n",
    "        SELECT\n",
    "        o.OrderID,\n",
    "        o.CustomerID,\n",
    "        o.OrderDate,\n",
    "        SUM(ROUND(od.UnitPrice * od.Quantity,2))\n",
    "            OVER (PARTITION BY o.CustomerID\n",
    "            ORDER BY o.OrderDate)\n",
    "            AS OrderCumulativeAmount\n",
    "        FROM Orders as o\n",
    "        JOIN OrderDetails AS od ON od.OrderID = o.OrderID\n",
    "        )\n",
    "    SELECT *\n",
    "    FROM order_sum\n",
    "    GROUP BY order_sum.OrderID\n",
    "    ORDER BY order_sum.CustomerID\n",
    "    \"\"\""
   ]
  },
  {
   "cell_type": "code",
   "execution_count": null,
   "metadata": {},
   "outputs": [],
   "source": [
    "# this shows double WITH, producing 2 tables, the general average just being a\n",
    "# number\n",
    "\n",
    "# TASK:\n",
    "# return the customers who have an average purchase greater\n",
    "# than the general average purchase\n",
    "query = '''\n",
    "    WITH OrderValues AS (\n",
    "        SELECT\n",
    "        SUM(od.UnitPrice * od.Quantity) AS value,\n",
    "        od.OrderID\n",
    "        FROM OrderDetails od\n",
    "        GROUP BY od.OrderID\n",
    "    ),\n",
    "    generalaverage AS (\n",
    "        SELECT\n",
    "            ROUND(AVG(ov.value), 0) AS average\n",
    "        FROM OrderValues ov\n",
    "        )\n",
    "    SELECT\n",
    "        c.CustomerID\n",
    "        ,ROUND(AVG(ov.value),2) AS customer_average\n",
    "    FROM Customers as c\n",
    "    JOIN Orders AS o ON o.CustomerID = c.CustomerID\n",
    "    JOIN ordervalues AS ov ON ov.OrderID = o.OrderID\n",
    "    GROUP BY c.CustomerID\n",
    "    HAVING customer_average > (SELECT average FROM generalaverage)\n",
    "    ORDER BY customer_average DESC\n",
    "    '''"
   ]
  },
  {
   "cell_type": "markdown",
   "metadata": {},
   "source": [
    "### NUMPY for arrays, series"
   ]
  },
  {
   "cell_type": "markdown",
   "metadata": {},
   "source": [
    "[Numpy Cheatsheet](https://s3.amazonaws.com/assets.datacamp.com/blog_assets/Numpy_Python_Cheat_Sheet.pdf)"
   ]
  },
  {
   "cell_type": "code",
   "execution_count": 1,
   "metadata": {},
   "outputs": [],
   "source": [
    "import numpy as np"
   ]
  },
  {
   "cell_type": "code",
   "execution_count": 17,
   "metadata": {},
   "outputs": [],
   "source": [
    "ten_zeros = np.zeros(10)\n",
    "five_to_ten = np.arange(5,11)\n",
    "A = np.array([[5,9,7], [1,0,3]])\n",
    "B = np.ones((2,2), dtype = int)\n",
    "lin_twenty = np.linspace(-1,1,20)\n",
    "C = np.identity(3, dtype = int)\n",
    "D = np.array([2,9,7,3,1,5], dtype = int)\n",
    "E = np.reshape(D, (2,3))\n",
    "f = np.identity(2, dtype = int)\n",
    "F = np.tile(f,(4,4)) # makes 8x8 identity\n",
    "G = np.random.random((4, 5))\n",
    "reshaped_G = np.hsplit(G,5)[1] # split into list of arrays, from X columns\n",
    "H = np.array([0, 4, -4, -3, 1, 1]).reshape(3, 2) # create arrays this way\n",
    "I = np.array([[0, 1], [1, -1], [2, 3]]) # or this way"
   ]
  },
  {
   "cell_type": "code",
   "execution_count": 18,
   "metadata": {},
   "outputs": [],
   "source": [
    "# PANDAS as PD"
   ]
  },
  {
   "cell_type": "code",
   "execution_count": 4,
   "metadata": {},
   "outputs": [],
   "source": [
    "import pandas as pd\n",
    "import matplotlib"
   ]
  },
  {
   "cell_type": "code",
   "execution_count": 6,
   "metadata": {},
   "outputs": [
    {
     "data": {
      "text/html": [
       "<div>\n",
       "<style scoped>\n",
       "    .dataframe tbody tr th:only-of-type {\n",
       "        vertical-align: middle;\n",
       "    }\n",
       "\n",
       "    .dataframe tbody tr th {\n",
       "        vertical-align: top;\n",
       "    }\n",
       "\n",
       "    .dataframe thead th {\n",
       "        text-align: right;\n",
       "    }\n",
       "</style>\n",
       "<table border=\"1\" class=\"dataframe\">\n",
       "  <thead>\n",
       "    <tr style=\"text-align: right;\">\n",
       "      <th></th>\n",
       "      <th>Month</th>\n",
       "      <th>U.S.</th>\n",
       "      <th>Alaska</th>\n",
       "      <th>Arkansas</th>\n",
       "      <th>Kansas</th>\n",
       "      <th>Other States</th>\n",
       "      <th>Federal Offshore--Gulf of Mexico</th>\n",
       "      <th>Wyoming</th>\n",
       "      <th>West Virginia</th>\n",
       "      <th>Utah</th>\n",
       "      <th>Pennsylvania</th>\n",
       "      <th>Texas</th>\n",
       "      <th>Oklahoma</th>\n",
       "      <th>Ohio</th>\n",
       "      <th>North Dakota</th>\n",
       "      <th>New Mexico</th>\n",
       "      <th>Montana</th>\n",
       "      <th>Louisiana</th>\n",
       "      <th>Colorado</th>\n",
       "      <th>California</th>\n",
       "    </tr>\n",
       "  </thead>\n",
       "  <tbody>\n",
       "    <tr>\n",
       "      <th>0</th>\n",
       "      <td>2008-06-01</td>\n",
       "      <td>70626</td>\n",
       "      <td>8875</td>\n",
       "      <td>1196</td>\n",
       "      <td>1024</td>\n",
       "      <td>2995</td>\n",
       "      <td>7339</td>\n",
       "      <td>6839</td>\n",
       "      <td>670</td>\n",
       "      <td>1198</td>\n",
       "      <td>540</td>\n",
       "      <td>21446</td>\n",
       "      <td>5241</td>\n",
       "      <td>224</td>\n",
       "      <td>243</td>\n",
       "      <td>3975</td>\n",
       "      <td>323</td>\n",
       "      <td>3989</td>\n",
       "      <td>3576</td>\n",
       "      <td>932</td>\n",
       "    </tr>\n",
       "    <tr>\n",
       "      <th>1</th>\n",
       "      <td>2008-07-01</td>\n",
       "      <td>71137</td>\n",
       "      <td>8375</td>\n",
       "      <td>1256</td>\n",
       "      <td>1034</td>\n",
       "      <td>3150</td>\n",
       "      <td>7468</td>\n",
       "      <td>6940</td>\n",
       "      <td>674</td>\n",
       "      <td>1200</td>\n",
       "      <td>512</td>\n",
       "      <td>21547</td>\n",
       "      <td>5256</td>\n",
       "      <td>220</td>\n",
       "      <td>243</td>\n",
       "      <td>4179</td>\n",
       "      <td>324</td>\n",
       "      <td>4008</td>\n",
       "      <td>3834</td>\n",
       "      <td>919</td>\n",
       "    </tr>\n",
       "    <tr>\n",
       "      <th>2</th>\n",
       "      <td>2008-08-01</td>\n",
       "      <td>70760</td>\n",
       "      <td>8739</td>\n",
       "      <td>1313</td>\n",
       "      <td>1033</td>\n",
       "      <td>3092</td>\n",
       "      <td>6868</td>\n",
       "      <td>6835</td>\n",
       "      <td>678</td>\n",
       "      <td>1277</td>\n",
       "      <td>529</td>\n",
       "      <td>21777</td>\n",
       "      <td>4896</td>\n",
       "      <td>220</td>\n",
       "      <td>249</td>\n",
       "      <td>4092</td>\n",
       "      <td>327</td>\n",
       "      <td>3896</td>\n",
       "      <td>4056</td>\n",
       "      <td>881</td>\n",
       "    </tr>\n",
       "  </tbody>\n",
       "</table>\n",
       "</div>"
      ],
      "text/plain": [
       "        Month   U.S.  Alaska  Arkansas  Kansas  Other States  \\\n",
       "0  2008-06-01  70626    8875      1196    1024          2995   \n",
       "1  2008-07-01  71137    8375      1256    1034          3150   \n",
       "2  2008-08-01  70760    8739      1313    1033          3092   \n",
       "\n",
       "   Federal Offshore--Gulf of Mexico  Wyoming  West Virginia  Utah  \\\n",
       "0                              7339     6839            670  1198   \n",
       "1                              7468     6940            674  1200   \n",
       "2                              6868     6835            678  1277   \n",
       "\n",
       "   Pennsylvania  Texas  Oklahoma  Ohio  North Dakota  New Mexico  Montana  \\\n",
       "0           540  21446      5241   224           243        3975      323   \n",
       "1           512  21547      5256   220           243        4179      324   \n",
       "2           529  21777      4896   220           249        4092      327   \n",
       "\n",
       "   Louisiana  Colorado  California  \n",
       "0       3989      3576         932  \n",
       "1       4008      3834         919  \n",
       "2       3896      4056         881  "
      ]
     },
     "execution_count": 6,
     "metadata": {},
     "output_type": "execute_result"
    }
   ],
   "source": [
    "# load data:\n",
    "file = \"../data/U.S._natural_gas_production.csv\"\n",
    "gas_df = pd.read_csv(file, decimal=\",\")\n",
    "df = gas_df\n",
    "gas_df.head(3)"
   ]
  },
  {
   "cell_type": "code",
   "execution_count": 18,
   "metadata": {},
   "outputs": [
    {
     "name": "stdout",
     "output_type": "stream",
     "text": [
      "<class 'pandas.core.frame.DataFrame'>\n",
      "RangeIndex: 121 entries, 0 to 120\n",
      "Data columns (total 20 columns):\n",
      " #   Column                            Non-Null Count  Dtype         \n",
      "---  ------                            --------------  -----         \n",
      " 0   Month                             121 non-null    datetime64[ns]\n",
      " 1   U.S.                              121 non-null    int64         \n",
      " 2   Alaska                            121 non-null    int64         \n",
      " 3   Arkansas                          121 non-null    int64         \n",
      " 4   Kansas                            121 non-null    int64         \n",
      " 5   Other States                      121 non-null    int64         \n",
      " 6   Federal Offshore--Gulf of Mexico  121 non-null    int64         \n",
      " 7   Wyoming                           121 non-null    int64         \n",
      " 8   West Virginia                     121 non-null    int64         \n",
      " 9   Utah                              121 non-null    int64         \n",
      " 10  Pennsylvania                      121 non-null    int64         \n",
      " 11  Texas                             121 non-null    int64         \n",
      " 12  Oklahoma                          121 non-null    int64         \n",
      " 13  Ohio                              121 non-null    int64         \n",
      " 14  North Dakota                      121 non-null    int64         \n",
      " 15  New Mexico                        121 non-null    int64         \n",
      " 16  Montana                           121 non-null    int64         \n",
      " 17  Louisiana                         121 non-null    int64         \n",
      " 18  Colorado                          121 non-null    int64         \n",
      " 19  California                        121 non-null    int64         \n",
      "dtypes: datetime64[ns](1), int64(19)\n",
      "memory usage: 19.0 KB\n"
     ]
    },
    {
     "data": {
      "text/plain": [
       "Index(['Month', 'U.S.', 'Alaska', 'Arkansas', 'Kansas', 'Other States',\n",
       "       'Federal Offshore--Gulf of Mexico', 'Wyoming', 'West Virginia', 'Utah',\n",
       "       'Pennsylvania', 'Texas', 'Oklahoma', 'Ohio', 'North Dakota',\n",
       "       'New Mexico', 'Montana', 'Louisiana', 'Colorado', 'California'],\n",
       "      dtype='object')"
      ]
     },
     "execution_count": 18,
     "metadata": {},
     "output_type": "execute_result"
    }
   ],
   "source": [
    "# Obvious Pandas EDA methods\n",
    "df.shape\n",
    "df.info()\n",
    "df.columns"
   ]
  },
  {
   "cell_type": "code",
   "execution_count": 8,
   "metadata": {},
   "outputs": [],
   "source": [
    "# some wider useful methods:\n",
    "gas_df.Month = pd.to_datetime(gas_df.Month) # convert to datetime inplace\n",
    "month_type = gas_df['Month'].dtype # check the datatype of a column\n",
    "gas_df['Month'].dt.year.head() # access with dt if a datatime datatype\n",
    "gas_df['Month'].dt.month.tail()\n",
    "\n",
    "index_zero = gas_df.index[0] # access the index as list\n",
    "first_entry = gas_df.iloc[0,0] # iloc can access any specific, slice etc\n",
    "\n",
    "gas_df.columns[1:].sort_values() # see a selection of columns sorted\n",
    "\n",
    "#renaming columns:\n",
    "# gas_df.rename(columns={'previous_name':'new_name'}, inplace = True)\n"
   ]
  },
  {
   "cell_type": "code",
   "execution_count": 9,
   "metadata": {},
   "outputs": [],
   "source": [
    "# AGGREGATE Methods\n",
    "\n",
    "# Groupby can then be chained with many other methods:\n",
    "yearly_gas_df = gas_df.groupby(gas_df['Month'].dt.year).sum()"
   ]
  },
  {
   "cell_type": "code",
   "execution_count": 13,
   "metadata": {},
   "outputs": [],
   "source": [
    "# Boolean indexing:\n",
    "filtered_yearly_gas_df = yearly_gas_df[np.logical_and(yearly_gas_df.index > 2008, yearly_gas_df.index < 2018)]"
   ]
  },
  {
   "cell_type": "markdown",
   "metadata": {},
   "source": [
    "## PLOTTING GRAPHS MATPLOTLIB"
   ]
  },
  {
   "cell_type": "code",
   "execution_count": 26,
   "metadata": {},
   "outputs": [
    {
     "data": {
      "image/png": "[encoded data removed]",
      "text/plain": [
       "<Figure size 640x480 with 1 Axes>"
      ]
     },
     "metadata": {},
     "output_type": "display_data"
    },
    {
     "data": {
      "image/png": "[encoded data removed]",
      "text/plain": [
       "<Figure size 640x480 with 1 Axes>"
      ]
     },
     "metadata": {},
     "output_type": "display_data"
    }
   ],
   "source": [
    "# firstly, quick plots using pandas:\n",
    "plot = yearly_gas_df.filter(items=['U.S.']).plot(kind=\"bar\")\n",
    "# or\n",
    "plot.legend(['U.S. Crude Oil (Thousands of barrels)']);\n",
    "plot = filtered_yearly_gas_df.filter(items=['Alaska', 'Arkansas', 'California', 'Colorado']).plot(kind=\"bar\")\n",
    "plot.set_xlabel(\"Year\");"
   ]
  },
  {
   "cell_type": "code",
   "execution_count": 20,
   "metadata": {},
   "outputs": [],
   "source": [
    "# load another df:\n",
    "oil_df = pd.read_csv('../data/U.S._crude_oil_production.csv')\n",
    "oil_df.Month = pd.to_datetime(oil_df.Month)\n",
    "yearly_oil_df = oil_df.groupby(oil_df['Month'].dt.year).sum()\n",
    "yearly_oil_df.rename(columns={'U.S. Crude Oil ':'U.S. Crude Oil'}, inplace = True)\n",
    "filtered_yearly_oil_df = yearly_oil_df[np.logical_and(yearly_oil_df.index > 2008, yearly_oil_df.index < 2018)]"
   ]
  },
  {
   "cell_type": "code",
   "execution_count": 21,
   "metadata": {},
   "outputs": [],
   "source": [
    "total_gas = filtered_yearly_gas_df.filter(['U.S.'])\n",
    "total_oil = filtered_yearly_oil_df.filter(['U.S. Crude Oil'])"
   ]
  },
  {
   "cell_type": "code",
   "execution_count": 22,
   "metadata": {},
   "outputs": [],
   "source": [
    "total_gas.rename(columns={'U.S.':'Gas'}, inplace = True)\n",
    "total_oil.rename(columns={'U.S. Crude Oil':'Crude Oil'}, inplace = True)"
   ]
  },
  {
   "cell_type": "markdown",
   "metadata": {},
   "source": [
    "# MERGE DATAFRAMES"
   ]
  },
  {
   "cell_type": "code",
   "execution_count": 24,
   "metadata": {},
   "outputs": [
    {
     "data": {
      "text/html": [
       "<div>\n",
       "<style scoped>\n",
       "    .dataframe tbody tr th:only-of-type {\n",
       "        vertical-align: middle;\n",
       "    }\n",
       "\n",
       "    .dataframe tbody tr th {\n",
       "        vertical-align: top;\n",
       "    }\n",
       "\n",
       "    .dataframe thead th {\n",
       "        text-align: right;\n",
       "    }\n",
       "</style>\n",
       "<table border=\"1\" class=\"dataframe\">\n",
       "  <thead>\n",
       "    <tr style=\"text-align: right;\">\n",
       "      <th></th>\n",
       "      <th>Gas</th>\n",
       "      <th>Crude Oil</th>\n",
       "    </tr>\n",
       "    <tr>\n",
       "      <th>Month</th>\n",
       "      <th></th>\n",
       "      <th></th>\n",
       "    </tr>\n",
       "  </thead>\n",
       "  <tbody>\n",
       "    <tr>\n",
       "      <th>2009</th>\n",
       "      <td>856876</td>\n",
       "      <td>64180</td>\n",
       "    </tr>\n",
       "    <tr>\n",
       "      <th>2010</th>\n",
       "      <td>881622</td>\n",
       "      <td>65741</td>\n",
       "    </tr>\n",
       "    <tr>\n",
       "      <th>2011</th>\n",
       "      <td>936163</td>\n",
       "      <td>67829</td>\n",
       "    </tr>\n",
       "    <tr>\n",
       "      <th>2012</th>\n",
       "      <td>968632</td>\n",
       "      <td>78007</td>\n",
       "    </tr>\n",
       "    <tr>\n",
       "      <th>2013</th>\n",
       "      <td>970617</td>\n",
       "      <td>89585</td>\n",
       "    </tr>\n",
       "    <tr>\n",
       "      <th>2014</th>\n",
       "      <td>1032439</td>\n",
       "      <td>105064</td>\n",
       "    </tr>\n",
       "    <tr>\n",
       "      <th>2015</th>\n",
       "      <td>1082158</td>\n",
       "      <td>113179</td>\n",
       "    </tr>\n",
       "    <tr>\n",
       "      <th>2016</th>\n",
       "      <td>1070085</td>\n",
       "      <td>105970</td>\n",
       "    </tr>\n",
       "    <tr>\n",
       "      <th>2017</th>\n",
       "      <td>1090730</td>\n",
       "      <td>112205</td>\n",
       "    </tr>\n",
       "  </tbody>\n",
       "</table>\n",
       "</div>"
      ],
      "text/plain": [
       "           Gas  Crude Oil\n",
       "Month                    \n",
       "2009    856876      64180\n",
       "2010    881622      65741\n",
       "2011    936163      67829\n",
       "2012    968632      78007\n",
       "2013    970617      89585\n",
       "2014   1032439     105064\n",
       "2015   1082158     113179\n",
       "2016   1070085     105970\n",
       "2017   1090730     112205"
      ]
     },
     "execution_count": 24,
     "metadata": {},
     "output_type": "execute_result"
    }
   ],
   "source": [
    "merged_df = pd.concat((total_gas, total_oil), axis=1)\n",
    "merged_df"
   ]
  },
  {
   "cell_type": "code",
   "execution_count": null,
   "metadata": {},
   "outputs": [],
   "source": [
    "plot = merged_df.plot(kind=\"bar\")\n",
    "plot.set_xlabel(\"Year\");\n",
    "plot.legend(['Gas (Millions of Cubic feet)', 'Crude Oil (Thousands of barrels)']);"
   ]
  }
 ],
 "metadata": {
  "kernelspec": {
   "display_name": "initial_env",
   "language": "python",
   "name": "python3"
  },
  "language_info": {
   "codemirror_mode": {
    "name": "ipython",
    "version": 3
   },
   "file_extension": ".py",
   "mimetype": "text/x-python",
   "name": "python",
   "nbconvert_exporter": "python",
   "pygments_lexer": "ipython3",
   "version": "3.10.6"
  }
 },
 "nbformat": 4,
 "nbformat_minor": 2
}
