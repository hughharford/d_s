{
 "cells": [
  {
   "cell_type": "markdown",
   "metadata": {},
   "source": [
    "# A very straightforward notebook\n",
    "### to bring together a range of useful basic data eng and data sci techniques\n",
    "\n",
    "Contents:\n",
    "  Import statement\n",
    "  "
   ]
  },
  {
   "cell_type": "markdown",
   "metadata": {},
   "source": [
    "### Broad import statement"
   ]
  },
  {
   "cell_type": "code",
   "execution_count": 15,
   "metadata": {},
   "outputs": [],
   "source": [
    "# data sourcing:\n",
    "import csv\n",
    "\n",
    "# databases:\n",
    "import sqlite3"
   ]
  },
  {
   "cell_type": "markdown",
   "metadata": {},
   "source": [
    "#"
   ]
  },
  {
   "cell_type": "markdown",
   "metadata": {},
   "source": [
    "# Python Basics"
   ]
  },
  {
   "cell_type": "code",
   "execution_count": 7,
   "metadata": {},
   "outputs": [
    {
     "data": {
      "text/plain": [
       "'string formats string thing and ints 33'"
      ]
     },
     "execution_count": 7,
     "metadata": {},
     "output_type": "execute_result"
    }
   ],
   "source": [
    "# string methods:\n",
    "# https://docs.python.org/3.7/tutorial/introduction.html#strings\n",
    "a_string = \"some. thing. thingy\"\n",
    "a_word = \"thing\"\n",
    "a_substring = 'ing'\n",
    "a_string.replace(\" \", \", \") # replaces . with a ,\n",
    "a_word in a_string # returns true if found\n",
    "a_string.count(a_substring) # returns how many times a_substring occurs in a_string\n",
    "a_string[-1] == \"?\" # true if ends with ?\n",
    "a_string.strip() # removes trailing and preceding whitespace\n",
    "a_string.capitalize()\n",
    "first_name = \"john\"\n",
    "last_name = \"doe\"\n",
    "age = 33\n",
    "\"{} {} is {}\".format(first_name.capitalize(), last_name.capitalize(), str(age)) # formatting string\n",
    "f\"string formats string {a_word} and ints {str(age)}\""
   ]
  },
  {
   "cell_type": "markdown",
   "metadata": {},
   "source": [
    "# basic data structures:\n",
    "- [Lists](https://docs.python.org/3.7/tutorial/introduction.html#lists), called _array_ in other languages\n",
    "- [More on lists](https://docs.python.org/3.7/tutorial/datastructures.html#more-on-lists)\n",
    "- [List Comprehensions](https://docs.python.org/3.7/tutorial/datastructures.html#list-comprehensions)\n",
    "- [Tuples](https://docs.python.org/3.7/tutorial/datastructures.html#tuples-and-sequences)\n",
    "- [Dictionaries](https://docs.python.org/3.7/tutorial/datastructures.html#dictionaries), called _hash_ or _hashmap_ in other languages\n",
    "- [Looping Techniques](https://docs.python.org/3.7/tutorial/datastructures.html#looping-techniques) with the `for` keyword"
   ]
  },
  {
   "cell_type": "code",
   "execution_count": 8,
   "metadata": {},
   "outputs": [],
   "source": [
    "## remember, the following are found in the data-challenges-reboot 01-Python/01-Programming-Basics folder:\n",
    "    # debugging\n",
    "    # system parameters i.e: sys.argv[1]\n",
    "    # environment variables, i.e: os.getenv(\"FLASK_ENV\")"
   ]
  },
  {
   "cell_type": "markdown",
   "metadata": {},
   "source": [
    "## Data Sourcing / Source data\n",
    "### Found in 01-Python/02-Data-Sourcing"
   ]
  },
  {
   "cell_type": "code",
   "execution_count": null,
   "metadata": {},
   "outputs": [],
   "source": [
    "# reading csv files into python (as list):\n",
    "\n",
    "print(\"with csv.reader(file): \\n\")\n",
    "with open('../data/phone_book.csv', mode='r') as csv_file:\n",
    "    csv_reader = csv.reader(csv_file)\n",
    "    line_count = 0\n",
    "    for row in csv_reader:\n",
    "        if line_count != 0: # ie. skip header\n",
    "            print(', '.join('%s'%x for x in row))\n",
    "        line_count += 1"
   ]
  },
  {
   "cell_type": "markdown",
   "metadata": {},
   "source": []
  },
  {
   "cell_type": "code",
   "execution_count": null,
   "metadata": {},
   "outputs": [],
   "source": [
    "# reading csv files into python (as dict):\n",
    "\n",
    "print(\"with csv.dictreader: \\n\")\n",
    "with open('../data/phone_book.csv', mode='r') as csv_file:\n",
    "    dict_reader = csv.DictReader(csv_file)\n",
    "    for row in dict_reader:\n",
    "        print(row.values())\n",
    "        print(\", \".join('%s'%x for x in row.values()))"
   ]
  },
  {
   "cell_type": "code",
   "execution_count": 13,
   "metadata": {},
   "outputs": [],
   "source": [
    "# APIs and scraping: see examples in 01-Python/02-Data-Sourcing"
   ]
  },
  {
   "cell_type": "markdown",
   "metadata": {},
   "source": [
    "# SQL and database basics\n",
    "## use db:\n",
    "### https://www.kaggle.com/datasets/hugomathien/soccer\n",
    " "
   ]
  },
  {
   "cell_type": "code",
   "execution_count": 54,
   "metadata": {},
   "outputs": [],
   "source": [
    "# order of SQL operations matters:"
   ]
  },
  {
   "cell_type": "markdown",
   "metadata": {},
   "source": [
    "![image.png](https://cdn.sisense.com/wp-content/uploads/image-1-order-blog.png)"
   ]
  },
  {
   "cell_type": "code",
   "execution_count": 35,
   "metadata": {},
   "outputs": [],
   "source": [
    "# python access to database:\n",
    "db_path_movies = '../data/movies.sqlite'\n",
    "# import sqlite3\n",
    "conn = sqlite3.connect(db_path_movies)\n",
    "c = conn.cursor()"
   ]
  },
  {
   "cell_type": "code",
   "execution_count": 33,
   "metadata": {},
   "outputs": [
    {
     "data": {
      "text/plain": [
       "'Georges Méliès'"
      ]
     },
     "execution_count": 33,
     "metadata": {},
     "output_type": "execute_result"
    }
   ],
   "source": [
    "# SQL run the commands:\n",
    "c.execute(\"SELECT * FROM directors\")\n",
    "rows = c.fetchall()\n",
    "first_row = rows[0]\n",
    "first_row[0]"
   ]
  },
  {
   "cell_type": "code",
   "execution_count": 41,
   "metadata": {},
   "outputs": [
    {
     "data": {
      "text/plain": [
       "['name', 'birth_year', 'death_year', 'imdb_director_id', 'id']"
      ]
     },
     "execution_count": 41,
     "metadata": {},
     "output_type": "execute_result"
    }
   ],
   "source": [
    "# SQL fetch list of row elements:\n",
    "conn = sqlite3.connect(db_path_movies)\n",
    "conn.row_factory = sqlite3.Row\n",
    "c = conn.cursor()\n",
    "\n",
    "c.execute(\"SELECT * FROM directors\")\n",
    "rows = c.fetchall()\n",
    "first_row = rows[0]\n",
    "\n",
    "first_row['birth_year'] # table field names: name, birth_year, death_year, imdb_director_id, id\n",
    "first_row.keys()"
   ]
  },
  {
   "cell_type": "code",
   "execution_count": 42,
   "metadata": {},
   "outputs": [
    {
     "data": {
      "text/plain": [
       "('Georges Méliès', 1861, 1938, 'nm0617588', 1)"
      ]
     },
     "execution_count": 42,
     "metadata": {},
     "output_type": "execute_result"
    }
   ],
   "source": [
    "tuple(first_row)"
   ]
  },
  {
   "cell_type": "code",
   "execution_count": 43,
   "metadata": {},
   "outputs": [
    {
     "data": {
      "text/plain": [
       "['Georges Méliès', 1861, 1938, 'nm0617588', 1]"
      ]
     },
     "execution_count": 43,
     "metadata": {},
     "output_type": "execute_result"
    }
   ],
   "source": [
    "list(first_row)"
   ]
  },
  {
   "cell_type": "code",
   "execution_count": 47,
   "metadata": {},
   "outputs": [
    {
     "name": "stdout",
     "output_type": "stream",
     "text": [
      "David Lynch - 1946\n"
     ]
    }
   ],
   "source": [
    "# SQL use fetchone when relevant:\n",
    "c.execute(\"SELECT * FROM directors WHERE directors.imdb_director_id = 'nm0000186'\")\n",
    "row = c.fetchone()\n",
    "print(row[0], '-' ,row[1])"
   ]
  },
  {
   "cell_type": "code",
   "execution_count": 52,
   "metadata": {},
   "outputs": [
    {
     "name": "stdout",
     "output_type": "stream",
     "text": [
      "D.W. Griffith 1875 1948 nm0000428 4\n"
     ]
    }
   ],
   "source": [
    "# SQL Projection - select columns in the query:\n",
    "query = \"SELECT d.id, d.name, d.birth_year FROM directors AS d\"\n",
    "# NB - alias\n",
    "\n",
    "# SQL Selection- select row:\n",
    "query = \"\"\"\n",
    "SELECT *\n",
    "FROM directors AS d\n",
    "WHERE d.name = 'D.W. Griffith'\n",
    "\"\"\"\n",
    "c.execute(query)\n",
    "row = c.fetchone()\n",
    "print(f'{row[0]} {row[1]} {row[2]} {row[3]} {row[4]}')"
   ]
  },
  {
   "cell_type": "code",
   "execution_count": 53,
   "metadata": {},
   "outputs": [],
   "source": [
    "# SQL  multiple selections:\n",
    "\n",
    "query =\"\"\"SELECT *\n",
    "FROM directors AS d\n",
    "WHERE d.name = 'D.W. Griffith'\n",
    "OR d.name = 'David Lynch'\"\"\"\n",
    "\n",
    "query = \"\"\"SELECT *\n",
    "FROM directors AS d\n",
    "WHERE d.name IN ('D.W. Griffith', 'David Lynch')\"\"\"\n",
    "\n",
    "query =\"\"\"SELECT *\n",
    "FROM movies AS m\n",
    "WHERE UPPER(m.title) LIKE 'THE %'\"\"\" # all movies starting with \"THE \""
   ]
  },
  {
   "cell_type": "code",
   "execution_count": null,
   "metadata": {},
   "outputs": [],
   "source": [
    "# SQL counting\n",
    "q = \"\"\"SELECT COUNT(directors.id)\n",
    "FROM directors\n",
    "WHERE directors.birth_year >= 1980\n",
    "\"\"\""
   ]
  },
  {
   "cell_type": "code",
   "execution_count": 55,
   "metadata": {},
   "outputs": [],
   "source": [
    "# SQL sorting:\n",
    "q = \"\"\"SELECT *\n",
    "FROM directors AS d\n",
    "ORDER BY d.birth_year DESC\n",
    "LIMIT 10\"\"\""
   ]
  },
  {
   "cell_type": "code",
   "execution_count": 56,
   "metadata": {},
   "outputs": [],
   "source": [
    "db_path_soccer = '../data/soccer.sqlite'\n",
    "conn = sqlite3.connect(db_path_soccer)\n",
    "conn.row_factory = sqlite3.Row\n",
    "c = conn.cursor()"
   ]
  },
  {
   "cell_type": "code",
   "execution_count": null,
   "metadata": {},
   "outputs": [],
   "source": [
    "# GROUPING:\n",
    "# Grouping rows on a given column C (aggregating rows with a function where values of C column are the same)\n",
    "\n",
    "# how many matches played per country:\n",
    "q = \"\"\"SELECT COUNT(matches.id), matches.country_id\n",
    "FROM \"Match\" AS matches\n",
    "GROUP BY matches.country_id\"\"\""
   ]
  }
 ],
 "metadata": {
  "kernelspec": {
   "display_name": "initial_env",
   "language": "python",
   "name": "python3"
  },
  "language_info": {
   "codemirror_mode": {
    "name": "ipython",
    "version": 3
   },
   "file_extension": ".py",
   "mimetype": "text/x-python",
   "name": "python",
   "nbconvert_exporter": "python",
   "pygments_lexer": "ipython3",
   "version": "3.10.6"
  }
 },
 "nbformat": 4,
 "nbformat_minor": 2
}
