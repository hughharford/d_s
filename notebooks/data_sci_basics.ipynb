{
 "cells": [
  {
   "cell_type": "markdown",
   "metadata": {},
   "source": [
    "# A straightforward notebook: data science basics\n",
    "\n",
    "### to bring together a range of useful basic data eng and data sci techniques\n",
    "\n",
    "Contents:\n",
    "  - Import statement\n",
    "  - Cheatsheets\n",
    "  - Python Basics\n",
    "  - Basic data structures\n",
    "  - Data sourcing\n",
    "  - Numpy\n",
    "  - Pandas\n",
    "    - Loading data\n",
    "    - Plotting with pandas\n",
    "    - Merge dataframes\n",
    "    - Join dataframes\n",
    "    - Concat dataframes\n",
    "    - EXAMPLE Olympic Sports and Medals\n",
    "    - Data Cleaning\n",
    "  - Data Visualisation (v basic, see other visualisation notebook)\n",
    "\n",
    "  ### For SQL, see separate notebook\n"
   ]
  },
  {
   "cell_type": "markdown",
   "metadata": {},
   "source": [
    "### Broad import statement"
   ]
  },
  {
   "cell_type": "code",
   "execution_count": 2,
   "metadata": {},
   "outputs": [],
   "source": [
    "# data sourcing:\n",
    "import csv\n",
    "\n",
    "# databases:\n",
    "import sqlite3\n",
    "\n",
    "# data toolkit:\n",
    "import numpy as np\n",
    "import pandas as pd\n",
    "\n",
    "# plotting\n",
    "import matplotlib.pyplot as plt\n",
    "%matplotlib inline  \n",
    "import seaborn as sns"
   ]
  },
  {
   "cell_type": "markdown",
   "metadata": {},
   "source": [
    "# CHEATSHEETS\n",
    "[SQL Cheatsheet](https://learnsql.com/blog/ultimate-sql-cheat-sheet/All-sql-cheat-sheet-a4.pdf)\n",
    "\n",
    "[Numpy Cheatsheet](https://s3.amazonaws.com/assets.datacamp.com/blog_assets/Numpy_Python_Cheat_Sheet.pdf)\n",
    "\n",
    "[Pandas Cheatsheet](https://pandas.pydata.org/Pandas_Cheat_Sheet.pdf)"
   ]
  },
  {
   "cell_type": "markdown",
   "metadata": {},
   "source": [
    "#"
   ]
  },
  {
   "cell_type": "markdown",
   "metadata": {},
   "source": [
    "# Python Basics"
   ]
  },
  {
   "cell_type": "code",
   "execution_count": 4,
   "metadata": {},
   "outputs": [
    {
     "data": {
      "text/plain": [
       "'string formats string thing and ints 33'"
      ]
     },
     "execution_count": 4,
     "metadata": {},
     "output_type": "execute_result"
    }
   ],
   "source": [
    "# string methods:\n",
    "# https://docs.python.org/3.7/tutorial/introduction.html#strings\n",
    "a_string = \"some. thing. thingy\"\n",
    "a_word = \"thing\"\n",
    "a_substring = 'ing'\n",
    "a_string.replace(\" \", \", \") # replaces . with a ,\n",
    "a_word in a_string # returns true if found\n",
    "a_string.count(a_substring) # returns how many times a_substring occurs in a_string\n",
    "a_string[-1] == \"?\" # true if ends with ?\n",
    "a_string.strip() # removes trailing and preceding whitespace\n",
    "a_string.capitalize()\n",
    "first_name = \"john\"\n",
    "last_name = \"doe\"\n",
    "age = 33\n",
    "\"{} {} is {}\".format(first_name.capitalize(), last_name.capitalize(), str(age)) # formatting string\n",
    "f\"string formats string {a_word} and ints {str(age)}\""
   ]
  },
  {
   "cell_type": "markdown",
   "metadata": {},
   "source": [
    "# basic data structures:\n",
    "- [Lists](https://docs.python.org/3.7/tutorial/introduction.html#lists), called _array_ in other languages\n",
    "- [More on lists](https://docs.python.org/3.7/tutorial/datastructures.html#more-on-lists)\n",
    "- [List Comprehensions](https://docs.python.org/3.7/tutorial/datastructures.html#list-comprehensions)\n",
    "- [Tuples](https://docs.python.org/3.7/tutorial/datastructures.html#tuples-and-sequences)\n",
    "- [Dictionaries](https://docs.python.org/3.7/tutorial/datastructures.html#dictionaries), called _hash_ or _hashmap_ in other languages\n",
    "- [Looping Techniques](https://docs.python.org/3.7/tutorial/datastructures.html#looping-techniques) with the `for` keyword"
   ]
  },
  {
   "cell_type": "code",
   "execution_count": 5,
   "metadata": {},
   "outputs": [],
   "source": [
    "## remember, the following are found in the data-challenges-reboot 01-Python/01-Programming-Basics folder:\n",
    "    # debugging\n",
    "    # system parameters i.e: sys.argv[1]\n",
    "    # environment variables, i.e: os.getenv(\"FLASK_ENV\")"
   ]
  },
  {
   "cell_type": "markdown",
   "metadata": {},
   "source": [
    "## Data Sourcing / Source data\n",
    "### Found in 01-Python/02-Data-Sourcing"
   ]
  },
  {
   "cell_type": "code",
   "execution_count": 6,
   "metadata": {},
   "outputs": [
    {
     "name": "stdout",
     "output_type": "stream",
     "text": [
      "with csv.reader(file): \n",
      "\n",
      "John, Lennon, 123\n",
      "George, Harrison, 456\n",
      "Ringo, Star, 789\n",
      "Paul, McCartney, 148\n",
      "Hugh, BrilliantHead, 555\n"
     ]
    }
   ],
   "source": [
    "# reading csv files into python (as list):\n",
    "\n",
    "print(\"with csv.reader(file): \\n\")\n",
    "with open('../data/phone_book.csv', mode='r') as csv_file:\n",
    "    csv_reader = csv.reader(csv_file)\n",
    "    line_count = 0\n",
    "    for row in csv_reader:\n",
    "        if line_count != 0: # ie. skip header\n",
    "            print(', '.join('%s'%x for x in row))\n",
    "        line_count += 1"
   ]
  },
  {
   "cell_type": "markdown",
   "metadata": {},
   "source": []
  },
  {
   "cell_type": "code",
   "execution_count": 7,
   "metadata": {},
   "outputs": [
    {
     "name": "stdout",
     "output_type": "stream",
     "text": [
      "with csv.dictreader: \n",
      "\n",
      "dict_values(['John', 'Lennon', '123'])\n",
      "John, Lennon, 123\n",
      "dict_values(['George', 'Harrison', '456'])\n",
      "George, Harrison, 456\n",
      "dict_values(['Ringo', 'Star', '789'])\n",
      "Ringo, Star, 789\n",
      "dict_values(['Paul', 'McCartney', '148'])\n",
      "Paul, McCartney, 148\n",
      "dict_values(['Hugh', 'BrilliantHead', '555'])\n",
      "Hugh, BrilliantHead, 555\n"
     ]
    }
   ],
   "source": [
    "# reading csv files into python (as dict):\n",
    "\n",
    "print(\"with csv.dictreader: \\n\")\n",
    "with open('../data/phone_book.csv', mode='r') as csv_file:\n",
    "    dict_reader = csv.DictReader(csv_file)\n",
    "    for row in dict_reader:\n",
    "        print(row.values())\n",
    "        print(\", \".join('%s'%x for x in row.values()))"
   ]
  },
  {
   "cell_type": "markdown",
   "metadata": {},
   "source": [
    "# APIs and scraping: see examples in \n",
    "[01-Python/02-Data-Sourcing](/home/hughharford/code/hughharford/data-challenges-reboot/02-Data-Toolkit/02-Data-Sourcing)"
   ]
  },
  {
   "cell_type": "markdown",
   "metadata": {},
   "source": [
    "### NUMPY for arrays, series"
   ]
  },
  {
   "cell_type": "markdown",
   "metadata": {},
   "source": [
    "[Numpy Cheatsheet](https://s3.amazonaws.com/assets.datacamp.com/blog_assets/Numpy_Python_Cheat_Sheet.pdf)"
   ]
  },
  {
   "cell_type": "code",
   "execution_count": 33,
   "metadata": {},
   "outputs": [],
   "source": [
    "import numpy as np"
   ]
  },
  {
   "cell_type": "code",
   "execution_count": 34,
   "metadata": {},
   "outputs": [],
   "source": [
    "ten_zeros = np.zeros(10)\n",
    "five_to_ten = np.arange(5,11)\n",
    "A = np.array([[5,9,7], [1,0,3]])\n",
    "B = np.ones((2,2), dtype = int)\n",
    "lin_twenty = np.linspace(-1,1,20)\n",
    "C = np.identity(3, dtype = int)\n",
    "D = np.array([2,9,7,3,1,5], dtype = int)\n",
    "E = np.reshape(D, (2,3))\n",
    "f = np.identity(2, dtype = int)\n",
    "F = np.tile(f,(4,4)) # makes 8x8 identity\n",
    "G = np.random.random((4, 5))\n",
    "reshaped_G = np.hsplit(G,5)[1] # split into list of arrays, from X columns\n",
    "H = np.array([0, 4, -4, -3, 1, 1]).reshape(3, 2) # create arrays this way\n",
    "I = np.array([[0, 1], [1, -1], [2, 3]]) # or this way"
   ]
  },
  {
   "cell_type": "code",
   "execution_count": 35,
   "metadata": {},
   "outputs": [],
   "source": [
    "# PANDAS as PD"
   ]
  },
  {
   "cell_type": "code",
   "execution_count": 36,
   "metadata": {},
   "outputs": [],
   "source": [
    "import pandas as pd\n",
    "import matplotlib"
   ]
  },
  {
   "cell_type": "markdown",
   "metadata": {},
   "source": [
    "# PANDAS"
   ]
  },
  {
   "cell_type": "markdown",
   "metadata": {},
   "source": [
    "## LOADING DATA INTO PANDAS"
   ]
  },
  {
   "cell_type": "code",
   "execution_count": 3,
   "metadata": {},
   "outputs": [
    {
     "data": {
      "text/html": [
       "<div>\n",
       "<style scoped>\n",
       "    .dataframe tbody tr th:only-of-type {\n",
       "        vertical-align: middle;\n",
       "    }\n",
       "\n",
       "    .dataframe tbody tr th {\n",
       "        vertical-align: top;\n",
       "    }\n",
       "\n",
       "    .dataframe thead th {\n",
       "        text-align: right;\n",
       "    }\n",
       "</style>\n",
       "<table border=\"1\" class=\"dataframe\">\n",
       "  <thead>\n",
       "    <tr style=\"text-align: right;\">\n",
       "      <th></th>\n",
       "      <th>Month</th>\n",
       "      <th>U.S.</th>\n",
       "      <th>Alaska</th>\n",
       "      <th>Arkansas</th>\n",
       "      <th>Kansas</th>\n",
       "      <th>Other States</th>\n",
       "      <th>Federal Offshore--Gulf of Mexico</th>\n",
       "      <th>Wyoming</th>\n",
       "      <th>West Virginia</th>\n",
       "      <th>Utah</th>\n",
       "      <th>Pennsylvania</th>\n",
       "      <th>Texas</th>\n",
       "      <th>Oklahoma</th>\n",
       "      <th>Ohio</th>\n",
       "      <th>North Dakota</th>\n",
       "      <th>New Mexico</th>\n",
       "      <th>Montana</th>\n",
       "      <th>Louisiana</th>\n",
       "      <th>Colorado</th>\n",
       "      <th>California</th>\n",
       "    </tr>\n",
       "  </thead>\n",
       "  <tbody>\n",
       "    <tr>\n",
       "      <th>0</th>\n",
       "      <td>2008-06-01</td>\n",
       "      <td>70626</td>\n",
       "      <td>8875</td>\n",
       "      <td>1196</td>\n",
       "      <td>1024</td>\n",
       "      <td>2995</td>\n",
       "      <td>7339</td>\n",
       "      <td>6839</td>\n",
       "      <td>670</td>\n",
       "      <td>1198</td>\n",
       "      <td>540</td>\n",
       "      <td>21446</td>\n",
       "      <td>5241</td>\n",
       "      <td>224</td>\n",
       "      <td>243</td>\n",
       "      <td>3975</td>\n",
       "      <td>323</td>\n",
       "      <td>3989</td>\n",
       "      <td>3576</td>\n",
       "      <td>932</td>\n",
       "    </tr>\n",
       "    <tr>\n",
       "      <th>1</th>\n",
       "      <td>2008-07-01</td>\n",
       "      <td>71137</td>\n",
       "      <td>8375</td>\n",
       "      <td>1256</td>\n",
       "      <td>1034</td>\n",
       "      <td>3150</td>\n",
       "      <td>7468</td>\n",
       "      <td>6940</td>\n",
       "      <td>674</td>\n",
       "      <td>1200</td>\n",
       "      <td>512</td>\n",
       "      <td>21547</td>\n",
       "      <td>5256</td>\n",
       "      <td>220</td>\n",
       "      <td>243</td>\n",
       "      <td>4179</td>\n",
       "      <td>324</td>\n",
       "      <td>4008</td>\n",
       "      <td>3834</td>\n",
       "      <td>919</td>\n",
       "    </tr>\n",
       "    <tr>\n",
       "      <th>2</th>\n",
       "      <td>2008-08-01</td>\n",
       "      <td>70760</td>\n",
       "      <td>8739</td>\n",
       "      <td>1313</td>\n",
       "      <td>1033</td>\n",
       "      <td>3092</td>\n",
       "      <td>6868</td>\n",
       "      <td>6835</td>\n",
       "      <td>678</td>\n",
       "      <td>1277</td>\n",
       "      <td>529</td>\n",
       "      <td>21777</td>\n",
       "      <td>4896</td>\n",
       "      <td>220</td>\n",
       "      <td>249</td>\n",
       "      <td>4092</td>\n",
       "      <td>327</td>\n",
       "      <td>3896</td>\n",
       "      <td>4056</td>\n",
       "      <td>881</td>\n",
       "    </tr>\n",
       "  </tbody>\n",
       "</table>\n",
       "</div>"
      ],
      "text/plain": [
       "        Month   U.S.  Alaska  Arkansas  Kansas  Other States  \\\n",
       "0  2008-06-01  70626    8875      1196    1024          2995   \n",
       "1  2008-07-01  71137    8375      1256    1034          3150   \n",
       "2  2008-08-01  70760    8739      1313    1033          3092   \n",
       "\n",
       "   Federal Offshore--Gulf of Mexico  Wyoming  West Virginia  Utah  \\\n",
       "0                              7339     6839            670  1198   \n",
       "1                              7468     6940            674  1200   \n",
       "2                              6868     6835            678  1277   \n",
       "\n",
       "   Pennsylvania  Texas  Oklahoma  Ohio  North Dakota  New Mexico  Montana  \\\n",
       "0           540  21446      5241   224           243        3975      323   \n",
       "1           512  21547      5256   220           243        4179      324   \n",
       "2           529  21777      4896   220           249        4092      327   \n",
       "\n",
       "   Louisiana  Colorado  California  \n",
       "0       3989      3576         932  \n",
       "1       4008      3834         919  \n",
       "2       3896      4056         881  "
      ]
     },
     "execution_count": 3,
     "metadata": {},
     "output_type": "execute_result"
    }
   ],
   "source": [
    "# load data:\n",
    "file = \"../data/U.S._natural_gas_production.csv\"\n",
    "gas_df = pd.read_csv(file, decimal=\",\")\n",
    "df = gas_df\n",
    "gas_df.head(3)"
   ]
  },
  {
   "cell_type": "markdown",
   "metadata": {},
   "source": [
    "# EDA Exploratory Data Analysis"
   ]
  },
  {
   "cell_type": "code",
   "execution_count": 4,
   "metadata": {},
   "outputs": [
    {
     "name": "stdout",
     "output_type": "stream",
     "text": [
      "<class 'pandas.core.frame.DataFrame'>\n",
      "RangeIndex: 121 entries, 0 to 120\n",
      "Data columns (total 20 columns):\n",
      " #   Column                            Non-Null Count  Dtype \n",
      "---  ------                            --------------  ----- \n",
      " 0   Month                             121 non-null    object\n",
      " 1   U.S.                              121 non-null    int64 \n",
      " 2   Alaska                            121 non-null    int64 \n",
      " 3   Arkansas                          121 non-null    int64 \n",
      " 4   Kansas                            121 non-null    int64 \n",
      " 5   Other States                      121 non-null    int64 \n",
      " 6   Federal Offshore--Gulf of Mexico  121 non-null    int64 \n",
      " 7   Wyoming                           121 non-null    int64 \n",
      " 8   West Virginia                     121 non-null    int64 \n",
      " 9   Utah                              121 non-null    int64 \n",
      " 10  Pennsylvania                      121 non-null    int64 \n",
      " 11  Texas                             121 non-null    int64 \n",
      " 12  Oklahoma                          121 non-null    int64 \n",
      " 13  Ohio                              121 non-null    int64 \n",
      " 14  North Dakota                      121 non-null    int64 \n",
      " 15  New Mexico                        121 non-null    int64 \n",
      " 16  Montana                           121 non-null    int64 \n",
      " 17  Louisiana                         121 non-null    int64 \n",
      " 18  Colorado                          121 non-null    int64 \n",
      " 19  California                        121 non-null    int64 \n",
      "dtypes: int64(19), object(1)\n",
      "memory usage: 19.0+ KB\n"
     ]
    },
    {
     "data": {
      "text/plain": [
       "count     121.000000\n",
       "mean     5867.413223\n",
       "std       816.617410\n",
       "min      4556.000000\n",
       "25%      5290.000000\n",
       "50%      5613.000000\n",
       "75%      6607.000000\n",
       "max      7297.000000\n",
       "Name: Wyoming, dtype: float64"
      ]
     },
     "execution_count": 4,
     "metadata": {},
     "output_type": "execute_result"
    }
   ],
   "source": [
    "# Obvious Pandas EDA methods\n",
    "df.shape\n",
    "df.info()\n",
    "df.columns\n",
    "# df['Wyoming'].value_counts() # USE FOR CATEGORICAL DATA\n",
    "df['Wyoming'].nunique()\n",
    "df['Wyoming'].describe()# gives simple stats"
   ]
  },
  {
   "cell_type": "code",
   "execution_count": 5,
   "metadata": {},
   "outputs": [
    {
     "data": {
      "text/plain": [
       "Index(['Alaska', 'Arkansas', 'California', 'Colorado',\n",
       "       'Federal Offshore--Gulf of Mexico', 'Kansas', 'Louisiana', 'Montana',\n",
       "       'New Mexico', 'North Dakota', 'Ohio', 'Oklahoma', 'Other States',\n",
       "       'Pennsylvania', 'Texas', 'U.S.', 'Utah', 'West Virginia', 'Wyoming'],\n",
       "      dtype='object')"
      ]
     },
     "execution_count": 5,
     "metadata": {},
     "output_type": "execute_result"
    }
   ],
   "source": [
    "# some wider useful methods:\n",
    "gas_df.Month = pd.to_datetime(gas_df.Month) # convert to datetime inplace\n",
    "month_type = gas_df['Month'].dtype # check the datatype of a column\n",
    "gas_df['Month'].dt.year.head() # access with dt if a datatime datatype\n",
    "gas_df['Month'].dt.month.tail()\n",
    "\n",
    "index_zero = gas_df.index[0] # access the index as list\n",
    "first_entry = gas_df.iloc[0,0] # iloc can access any specific, slice etc\n",
    "\n",
    "gas_df.columns[1:].sort_values() # see a selection of columns sorted\n",
    "\n",
    "#renaming columns:\n",
    "# gas_df.rename(columns={'previous_name':'new_name'}, inplace = True)\n"
   ]
  },
  {
   "cell_type": "code",
   "execution_count": 6,
   "metadata": {},
   "outputs": [],
   "source": [
    "# AGGREGATE Methods\n",
    "\n",
    "# Groupby can then be chained with many other methods:\n",
    "yearly_gas_df = gas_df.groupby(gas_df['Month'].dt.year).sum()"
   ]
  },
  {
   "cell_type": "code",
   "execution_count": 7,
   "metadata": {},
   "outputs": [],
   "source": [
    "# Boolean indexing:\n",
    "filtered_yearly_gas_df = yearly_gas_df[np.logical_and(yearly_gas_df.index > 2008, yearly_gas_df.index < 2018)]"
   ]
  },
  {
   "cell_type": "code",
   "execution_count": 9,
   "metadata": {},
   "outputs": [
    {
     "data": {
      "text/html": [
       "<div>\n",
       "<style scoped>\n",
       "    .dataframe tbody tr th:only-of-type {\n",
       "        vertical-align: middle;\n",
       "    }\n",
       "\n",
       "    .dataframe tbody tr th {\n",
       "        vertical-align: top;\n",
       "    }\n",
       "\n",
       "    .dataframe thead th {\n",
       "        text-align: right;\n",
       "    }\n",
       "</style>\n",
       "<table border=\"1\" class=\"dataframe\">\n",
       "  <thead>\n",
       "    <tr style=\"text-align: right;\">\n",
       "      <th></th>\n",
       "      <th>U.S.</th>\n",
       "      <th>Alaska</th>\n",
       "      <th>Arkansas</th>\n",
       "      <th>Kansas</th>\n",
       "      <th>Other States</th>\n",
       "      <th>Federal Offshore--Gulf of Mexico</th>\n",
       "      <th>Wyoming</th>\n",
       "      <th>West Virginia</th>\n",
       "      <th>Utah</th>\n",
       "      <th>Pennsylvania</th>\n",
       "      <th>Texas</th>\n",
       "      <th>Oklahoma</th>\n",
       "      <th>Ohio</th>\n",
       "      <th>North Dakota</th>\n",
       "      <th>New Mexico</th>\n",
       "      <th>Montana</th>\n",
       "      <th>Louisiana</th>\n",
       "      <th>Colorado</th>\n",
       "      <th>California</th>\n",
       "    </tr>\n",
       "    <tr>\n",
       "      <th>Month</th>\n",
       "      <th></th>\n",
       "      <th></th>\n",
       "      <th></th>\n",
       "      <th></th>\n",
       "      <th></th>\n",
       "      <th></th>\n",
       "      <th></th>\n",
       "      <th></th>\n",
       "      <th></th>\n",
       "      <th></th>\n",
       "      <th></th>\n",
       "      <th></th>\n",
       "      <th></th>\n",
       "      <th></th>\n",
       "      <th></th>\n",
       "      <th></th>\n",
       "      <th></th>\n",
       "      <th></th>\n",
       "      <th></th>\n",
       "    </tr>\n",
       "  </thead>\n",
       "  <tbody>\n",
       "    <tr>\n",
       "      <th>2009</th>\n",
       "      <td>856876</td>\n",
       "      <td>108986</td>\n",
       "      <td>22353</td>\n",
       "      <td>11689</td>\n",
       "      <td>36078</td>\n",
       "      <td>80346</td>\n",
       "      <td>83413</td>\n",
       "      <td>8692</td>\n",
       "      <td>14782</td>\n",
       "      <td>9009</td>\n",
       "      <td>251694</td>\n",
       "      <td>62535</td>\n",
       "      <td>2919</td>\n",
       "      <td>3040</td>\n",
       "      <td>46867</td>\n",
       "      <td>3463</td>\n",
       "      <td>51221</td>\n",
       "      <td>49716</td>\n",
       "      <td>10071</td>\n",
       "    </tr>\n",
       "    <tr>\n",
       "      <th>2010</th>\n",
       "      <td>881622</td>\n",
       "      <td>105219</td>\n",
       "      <td>30475</td>\n",
       "      <td>10708</td>\n",
       "      <td>37542</td>\n",
       "      <td>74309</td>\n",
       "      <td>82687</td>\n",
       "      <td>8718</td>\n",
       "      <td>14361</td>\n",
       "      <td>18771</td>\n",
       "      <td>249632</td>\n",
       "      <td>60074</td>\n",
       "      <td>2568</td>\n",
       "      <td>3741</td>\n",
       "      <td>44101</td>\n",
       "      <td>3068</td>\n",
       "      <td>72873</td>\n",
       "      <td>52259</td>\n",
       "      <td>10521</td>\n",
       "    </tr>\n",
       "    <tr>\n",
       "      <th>2011</th>\n",
       "      <td>936163</td>\n",
       "      <td>104154</td>\n",
       "      <td>35384</td>\n",
       "      <td>10191</td>\n",
       "      <td>38187</td>\n",
       "      <td>60213</td>\n",
       "      <td>78095</td>\n",
       "      <td>12948</td>\n",
       "      <td>15170</td>\n",
       "      <td>43014</td>\n",
       "      <td>260747</td>\n",
       "      <td>62075</td>\n",
       "      <td>2592</td>\n",
       "      <td>5155</td>\n",
       "      <td>42315</td>\n",
       "      <td>2615</td>\n",
       "      <td>99905</td>\n",
       "      <td>54215</td>\n",
       "      <td>9181</td>\n",
       "    </tr>\n",
       "    <tr>\n",
       "      <th>2012</th>\n",
       "      <td>968632</td>\n",
       "      <td>103856</td>\n",
       "      <td>37571</td>\n",
       "      <td>9714</td>\n",
       "      <td>37045</td>\n",
       "      <td>50102</td>\n",
       "      <td>72988</td>\n",
       "      <td>17694</td>\n",
       "      <td>16079</td>\n",
       "      <td>73950</td>\n",
       "      <td>266989</td>\n",
       "      <td>66337</td>\n",
       "      <td>2772</td>\n",
       "      <td>8473</td>\n",
       "      <td>41846</td>\n",
       "      <td>2197</td>\n",
       "      <td>96895</td>\n",
       "      <td>56037</td>\n",
       "      <td>8092</td>\n",
       "    </tr>\n",
       "    <tr>\n",
       "      <th>2013</th>\n",
       "      <td>970617</td>\n",
       "      <td>105776</td>\n",
       "      <td>37466</td>\n",
       "      <td>9613</td>\n",
       "      <td>22657</td>\n",
       "      <td>43647</td>\n",
       "      <td>67338</td>\n",
       "      <td>24363</td>\n",
       "      <td>15482</td>\n",
       "      <td>107076</td>\n",
       "      <td>272844</td>\n",
       "      <td>65524</td>\n",
       "      <td>5442</td>\n",
       "      <td>11362</td>\n",
       "      <td>41010</td>\n",
       "      <td>2078</td>\n",
       "      <td>77873</td>\n",
       "      <td>52769</td>\n",
       "      <td>8296</td>\n",
       "    </tr>\n",
       "  </tbody>\n",
       "</table>\n",
       "</div>"
      ],
      "text/plain": [
       "         U.S.  Alaska  Arkansas  Kansas  Other States  \\\n",
       "Month                                                   \n",
       "2009   856876  108986     22353   11689         36078   \n",
       "2010   881622  105219     30475   10708         37542   \n",
       "2011   936163  104154     35384   10191         38187   \n",
       "2012   968632  103856     37571    9714         37045   \n",
       "2013   970617  105776     37466    9613         22657   \n",
       "\n",
       "       Federal Offshore--Gulf of Mexico  Wyoming  West Virginia   Utah  \\\n",
       "Month                                                                    \n",
       "2009                              80346    83413           8692  14782   \n",
       "2010                              74309    82687           8718  14361   \n",
       "2011                              60213    78095          12948  15170   \n",
       "2012                              50102    72988          17694  16079   \n",
       "2013                              43647    67338          24363  15482   \n",
       "\n",
       "       Pennsylvania   Texas  Oklahoma  Ohio  North Dakota  New Mexico  \\\n",
       "Month                                                                   \n",
       "2009           9009  251694     62535  2919          3040       46867   \n",
       "2010          18771  249632     60074  2568          3741       44101   \n",
       "2011          43014  260747     62075  2592          5155       42315   \n",
       "2012          73950  266989     66337  2772          8473       41846   \n",
       "2013         107076  272844     65524  5442         11362       41010   \n",
       "\n",
       "       Montana  Louisiana  Colorado  California  \n",
       "Month                                            \n",
       "2009      3463      51221     49716       10071  \n",
       "2010      3068      72873     52259       10521  \n",
       "2011      2615      99905     54215        9181  \n",
       "2012      2197      96895     56037        8092  \n",
       "2013      2078      77873     52769        8296  "
      ]
     },
     "execution_count": 9,
     "metadata": {},
     "output_type": "execute_result"
    }
   ],
   "source": [
    "# filtering \n",
    "\n",
    "other_df = yearly_gas_df.loc[yearly_gas_df.index > 2008]\n",
    "other_df.head()"
   ]
  },
  {
   "cell_type": "code",
   "execution_count": null,
   "metadata": {},
   "outputs": [],
   "source": [
    "# filtering by columns\n",
    "yearly_gas_df.filter(items=['U.S.'])\n",
    "# or simply:\n",
    "yearly_gas_df['U.S.']\n",
    "yearly_gas_df.Alaska\n",
    "\n",
    "yearly_gas_df[['U.S.'],['Alaska']]\n"
   ]
  },
  {
   "cell_type": "code",
   "execution_count": null,
   "metadata": {},
   "outputs": [],
   "source": [
    "# EDA 101 \n",
    "# plot all the numerical features in SEPARATE CHARTS as histograms:\n",
    "# Plot distribution for the numerical features  available in the dataset\n",
    "for variable in gas_df.select_dtypes(exclude = [\"object\"]).columns:\n",
    "    print(f\"----- Distribution of {variable} : -----\")\n",
    "    sns.histplot(gas_df[variable])\n",
    "    plt.show()"
   ]
  },
  {
   "cell_type": "code",
   "execution_count": 8,
   "metadata": {},
   "outputs": [
    {
     "data": {
      "image/png": "[encoded data removed]",
      "text/plain": [
       "<Figure size 1500x1100 with 19 Axes>"
      ]
     },
     "metadata": {},
     "output_type": "display_data"
    }
   ],
   "source": [
    "# EDA 101\n",
    "# plot all the numerical features in SINGLE CHARTS as histograms:\n",
    "# Plot distribution for the numerical features  available in the dataset\n",
    "plt.figure(figsize=(15,11))\n",
    "for (i, col) in enumerate(gas_df.select_dtypes(exclude = [\"object\"]).columns): # .describe().columns):\n",
    "    plt.subplot(6,6,i+1) # VARY dims to handle full number numerical features\n",
    "    sns.histplot(gas_df[col], kde=True, bins=25); # , stat='density'); #, discrete=[True,None][col in ['share_of_one_stars','share_of_five_stars','sales']]);"
   ]
  },
  {
   "cell_type": "markdown",
   "metadata": {},
   "source": [
    "## PLOTTING WITH PANDAS"
   ]
  },
  {
   "cell_type": "code",
   "execution_count": 43,
   "metadata": {},
   "outputs": [
    {
     "data": {
      "image/png": "[encoded data removed]",
      "text/plain": [
       "<Figure size 640x480 with 1 Axes>"
      ]
     },
     "metadata": {},
     "output_type": "display_data"
    },
    {
     "data": {
      "image/png": "[encoded data removed]",
      "text/plain": [
       "<Figure size 640x480 with 1 Axes>"
      ]
     },
     "metadata": {},
     "output_type": "display_data"
    }
   ],
   "source": [
    "# firstly, quick plots using pandas:\n",
    "plot = yearly_gas_df.filter(items=['U.S.']).plot(kind=\"bar\")\n",
    "# or\n",
    "plot.legend(['U.S. Crude Oil (Thousands of barrels)']);\n",
    "plot = filtered_yearly_gas_df.filter(items=['Alaska', 'Arkansas', 'California', 'Colorado']).plot(kind=\"bar\")\n",
    "plot.set_xlabel(\"Year\");"
   ]
  },
  {
   "cell_type": "code",
   "execution_count": 44,
   "metadata": {},
   "outputs": [],
   "source": [
    "# load another df:\n",
    "oil_df = pd.read_csv('../data/U.S._crude_oil_production.csv')\n",
    "oil_df.Month = pd.to_datetime(oil_df.Month)\n",
    "yearly_oil_df = oil_df.groupby(oil_df['Month'].dt.year).sum()\n",
    "yearly_oil_df.rename(columns={'U.S. Crude Oil ':'U.S. Crude Oil'}, inplace = True)\n",
    "filtered_yearly_oil_df = yearly_oil_df[np.logical_and(yearly_oil_df.index > 2008, yearly_oil_df.index < 2018)]"
   ]
  },
  {
   "cell_type": "code",
   "execution_count": 45,
   "metadata": {},
   "outputs": [],
   "source": [
    "total_gas = filtered_yearly_gas_df.filter(['U.S.'])\n",
    "total_oil = filtered_yearly_oil_df.filter(['U.S. Crude Oil'])"
   ]
  },
  {
   "cell_type": "code",
   "execution_count": 46,
   "metadata": {},
   "outputs": [],
   "source": [
    "total_gas.rename(columns={'U.S.':'Gas'}, inplace = True)\n",
    "total_oil.rename(columns={'U.S. Crude Oil':'Crude Oil'}, inplace = True)"
   ]
  },
  {
   "cell_type": "markdown",
   "metadata": {},
   "source": [
    "# MERGE DATAFRAMES\n",
    "### Merge when matching 2 columns"
   ]
  },
  {
   "cell_type": "code",
   "execution_count": 47,
   "metadata": {},
   "outputs": [
    {
     "data": {
      "text/html": [
       "<div>\n",
       "<style scoped>\n",
       "    .dataframe tbody tr th:only-of-type {\n",
       "        vertical-align: middle;\n",
       "    }\n",
       "\n",
       "    .dataframe tbody tr th {\n",
       "        vertical-align: top;\n",
       "    }\n",
       "\n",
       "    .dataframe thead th {\n",
       "        text-align: right;\n",
       "    }\n",
       "</style>\n",
       "<table border=\"1\" class=\"dataframe\">\n",
       "  <thead>\n",
       "    <tr style=\"text-align: right;\">\n",
       "      <th></th>\n",
       "      <th>Gas</th>\n",
       "      <th>Crude Oil</th>\n",
       "    </tr>\n",
       "    <tr>\n",
       "      <th>Month</th>\n",
       "      <th></th>\n",
       "      <th></th>\n",
       "    </tr>\n",
       "  </thead>\n",
       "  <tbody>\n",
       "    <tr>\n",
       "      <th>2009</th>\n",
       "      <td>856876</td>\n",
       "      <td>64180</td>\n",
       "    </tr>\n",
       "    <tr>\n",
       "      <th>2010</th>\n",
       "      <td>881622</td>\n",
       "      <td>65741</td>\n",
       "    </tr>\n",
       "    <tr>\n",
       "      <th>2011</th>\n",
       "      <td>936163</td>\n",
       "      <td>67829</td>\n",
       "    </tr>\n",
       "    <tr>\n",
       "      <th>2012</th>\n",
       "      <td>968632</td>\n",
       "      <td>78007</td>\n",
       "    </tr>\n",
       "    <tr>\n",
       "      <th>2013</th>\n",
       "      <td>970617</td>\n",
       "      <td>89585</td>\n",
       "    </tr>\n",
       "    <tr>\n",
       "      <th>2014</th>\n",
       "      <td>1032439</td>\n",
       "      <td>105064</td>\n",
       "    </tr>\n",
       "    <tr>\n",
       "      <th>2015</th>\n",
       "      <td>1082158</td>\n",
       "      <td>113179</td>\n",
       "    </tr>\n",
       "    <tr>\n",
       "      <th>2016</th>\n",
       "      <td>1070085</td>\n",
       "      <td>105970</td>\n",
       "    </tr>\n",
       "    <tr>\n",
       "      <th>2017</th>\n",
       "      <td>1090730</td>\n",
       "      <td>112205</td>\n",
       "    </tr>\n",
       "  </tbody>\n",
       "</table>\n",
       "</div>"
      ],
      "text/plain": [
       "           Gas  Crude Oil\n",
       "Month                    \n",
       "2009    856876      64180\n",
       "2010    881622      65741\n",
       "2011    936163      67829\n",
       "2012    968632      78007\n",
       "2013    970617      89585\n",
       "2014   1032439     105064\n",
       "2015   1082158     113179\n",
       "2016   1070085     105970\n",
       "2017   1090730     112205"
      ]
     },
     "execution_count": 47,
     "metadata": {},
     "output_type": "execute_result"
    }
   ],
   "source": [
    "merged_df = pd.concat((total_gas, total_oil), axis=1)\n",
    "merged_df"
   ]
  },
  {
   "cell_type": "code",
   "execution_count": 48,
   "metadata": {},
   "outputs": [
    {
     "data": {
      "text/html": [
       "<div>\n",
       "<style scoped>\n",
       "    .dataframe tbody tr th:only-of-type {\n",
       "        vertical-align: middle;\n",
       "    }\n",
       "\n",
       "    .dataframe tbody tr th {\n",
       "        vertical-align: top;\n",
       "    }\n",
       "\n",
       "    .dataframe thead th {\n",
       "        text-align: right;\n",
       "    }\n",
       "</style>\n",
       "<table border=\"1\" class=\"dataframe\">\n",
       "  <thead>\n",
       "    <tr style=\"text-align: right;\">\n",
       "      <th></th>\n",
       "      <th>Country</th>\n",
       "      <th>Population (M)</th>\n",
       "      <th>Capital</th>\n",
       "    </tr>\n",
       "  </thead>\n",
       "  <tbody>\n",
       "    <tr>\n",
       "      <th>0</th>\n",
       "      <td>Germany</td>\n",
       "      <td>82.8</td>\n",
       "      <td>Berlin</td>\n",
       "    </tr>\n",
       "    <tr>\n",
       "      <th>1</th>\n",
       "      <td>France</td>\n",
       "      <td>67.2</td>\n",
       "      <td>Paris</td>\n",
       "    </tr>\n",
       "    <tr>\n",
       "      <th>2</th>\n",
       "      <td>Belgium</td>\n",
       "      <td>11.4</td>\n",
       "      <td>Brussels</td>\n",
       "    </tr>\n",
       "    <tr>\n",
       "      <th>3</th>\n",
       "      <td>Finland</td>\n",
       "      <td>5.5</td>\n",
       "      <td>Helsinki</td>\n",
       "    </tr>\n",
       "  </tbody>\n",
       "</table>\n",
       "</div>"
      ],
      "text/plain": [
       "   Country  Population (M)   Capital\n",
       "0  Germany            82.8    Berlin\n",
       "1   France            67.2     Paris\n",
       "2  Belgium            11.4  Brussels\n",
       "3  Finland             5.5  Helsinki"
      ]
     },
     "execution_count": 48,
     "metadata": {},
     "output_type": "execute_result"
    }
   ],
   "source": [
    "# simple dfs for merging:\n",
    "a_df = pd.DataFrame({\n",
    "    'Country': ['Germany', 'France', 'Belgium', 'Finland'],\n",
    "    'Population (M)': [82.8, 67.2, 11.4, 5.5],\n",
    "    'Capital': ['Berlin', 'Paris', 'Brussels', 'Helsinki']\n",
    "})\n",
    "a_df"
   ]
  },
  {
   "cell_type": "code",
   "execution_count": 49,
   "metadata": {},
   "outputs": [
    {
     "data": {
      "text/html": [
       "<div>\n",
       "<style scoped>\n",
       "    .dataframe tbody tr th:only-of-type {\n",
       "        vertical-align: middle;\n",
       "    }\n",
       "\n",
       "    .dataframe tbody tr th {\n",
       "        vertical-align: top;\n",
       "    }\n",
       "\n",
       "    .dataframe thead th {\n",
       "        text-align: right;\n",
       "    }\n",
       "</style>\n",
       "<table border=\"1\" class=\"dataframe\">\n",
       "  <thead>\n",
       "    <tr style=\"text-align: right;\">\n",
       "      <th></th>\n",
       "      <th>Country</th>\n",
       "      <th>HDI</th>\n",
       "    </tr>\n",
       "  </thead>\n",
       "  <tbody>\n",
       "    <tr>\n",
       "      <th>0</th>\n",
       "      <td>Germany</td>\n",
       "      <td>0.936</td>\n",
       "    </tr>\n",
       "    <tr>\n",
       "      <th>1</th>\n",
       "      <td>France</td>\n",
       "      <td>0.901</td>\n",
       "    </tr>\n",
       "    <tr>\n",
       "      <th>2</th>\n",
       "      <td>Belgium</td>\n",
       "      <td>0.916</td>\n",
       "    </tr>\n",
       "    <tr>\n",
       "      <th>3</th>\n",
       "      <td>Canada</td>\n",
       "      <td>0.926</td>\n",
       "    </tr>\n",
       "  </tbody>\n",
       "</table>\n",
       "</div>"
      ],
      "text/plain": [
       "   Country    HDI\n",
       "0  Germany  0.936\n",
       "1   France  0.901\n",
       "2  Belgium  0.916\n",
       "3   Canada  0.926"
      ]
     },
     "execution_count": 49,
     "metadata": {},
     "output_type": "execute_result"
    }
   ],
   "source": [
    "\n",
    "b_df = pd.DataFrame({\n",
    "    'Country': ['Germany', 'France', 'Belgium', 'Canada'],\n",
    "    'HDI': [0.936, 0.901, 0.916, 0.926]\n",
    "})\n",
    "b_df"
   ]
  },
  {
   "cell_type": "code",
   "execution_count": 50,
   "metadata": {},
   "outputs": [
    {
     "data": {
      "text/html": [
       "<div>\n",
       "<style scoped>\n",
       "    .dataframe tbody tr th:only-of-type {\n",
       "        vertical-align: middle;\n",
       "    }\n",
       "\n",
       "    .dataframe tbody tr th {\n",
       "        vertical-align: top;\n",
       "    }\n",
       "\n",
       "    .dataframe thead th {\n",
       "        text-align: right;\n",
       "    }\n",
       "</style>\n",
       "<table border=\"1\" class=\"dataframe\">\n",
       "  <thead>\n",
       "    <tr style=\"text-align: right;\">\n",
       "      <th></th>\n",
       "      <th>Country</th>\n",
       "      <th>Population (M)</th>\n",
       "      <th>Capital</th>\n",
       "      <th>HDI</th>\n",
       "    </tr>\n",
       "  </thead>\n",
       "  <tbody>\n",
       "    <tr>\n",
       "      <th>0</th>\n",
       "      <td>Germany</td>\n",
       "      <td>82.8</td>\n",
       "      <td>Berlin</td>\n",
       "      <td>0.936</td>\n",
       "    </tr>\n",
       "    <tr>\n",
       "      <th>1</th>\n",
       "      <td>France</td>\n",
       "      <td>67.2</td>\n",
       "      <td>Paris</td>\n",
       "      <td>0.901</td>\n",
       "    </tr>\n",
       "    <tr>\n",
       "      <th>2</th>\n",
       "      <td>Belgium</td>\n",
       "      <td>11.4</td>\n",
       "      <td>Brussels</td>\n",
       "      <td>0.916</td>\n",
       "    </tr>\n",
       "  </tbody>\n",
       "</table>\n",
       "</div>"
      ],
      "text/plain": [
       "   Country  Population (M)   Capital    HDI\n",
       "0  Germany            82.8    Berlin  0.936\n",
       "1   France            67.2     Paris  0.901\n",
       "2  Belgium            11.4  Brussels  0.916"
      ]
     },
     "execution_count": 50,
     "metadata": {},
     "output_type": "execute_result"
    }
   ],
   "source": [
    "# inner merge, results in DF with no nulls:\n",
    "inner_merged_df = a_df.merge(b_df, how=\"inner\", on=['Country'])\n",
    "inner_merged_df"
   ]
  },
  {
   "cell_type": "code",
   "execution_count": 51,
   "metadata": {},
   "outputs": [
    {
     "data": {
      "text/html": [
       "<div>\n",
       "<style scoped>\n",
       "    .dataframe tbody tr th:only-of-type {\n",
       "        vertical-align: middle;\n",
       "    }\n",
       "\n",
       "    .dataframe tbody tr th {\n",
       "        vertical-align: top;\n",
       "    }\n",
       "\n",
       "    .dataframe thead th {\n",
       "        text-align: right;\n",
       "    }\n",
       "</style>\n",
       "<table border=\"1\" class=\"dataframe\">\n",
       "  <thead>\n",
       "    <tr style=\"text-align: right;\">\n",
       "      <th></th>\n",
       "      <th>Country</th>\n",
       "      <th>Population (M)</th>\n",
       "      <th>Capital</th>\n",
       "      <th>HDI</th>\n",
       "    </tr>\n",
       "  </thead>\n",
       "  <tbody>\n",
       "    <tr>\n",
       "      <th>0</th>\n",
       "      <td>Germany</td>\n",
       "      <td>82.8</td>\n",
       "      <td>Berlin</td>\n",
       "      <td>0.936</td>\n",
       "    </tr>\n",
       "    <tr>\n",
       "      <th>1</th>\n",
       "      <td>France</td>\n",
       "      <td>67.2</td>\n",
       "      <td>Paris</td>\n",
       "      <td>0.901</td>\n",
       "    </tr>\n",
       "    <tr>\n",
       "      <th>2</th>\n",
       "      <td>Belgium</td>\n",
       "      <td>11.4</td>\n",
       "      <td>Brussels</td>\n",
       "      <td>0.916</td>\n",
       "    </tr>\n",
       "    <tr>\n",
       "      <th>3</th>\n",
       "      <td>Finland</td>\n",
       "      <td>5.5</td>\n",
       "      <td>Helsinki</td>\n",
       "      <td>NaN</td>\n",
       "    </tr>\n",
       "  </tbody>\n",
       "</table>\n",
       "</div>"
      ],
      "text/plain": [
       "   Country  Population (M)   Capital    HDI\n",
       "0  Germany            82.8    Berlin  0.936\n",
       "1   France            67.2     Paris  0.901\n",
       "2  Belgium            11.4  Brussels  0.916\n",
       "3  Finland             5.5  Helsinki    NaN"
      ]
     },
     "execution_count": 51,
     "metadata": {},
     "output_type": "execute_result"
    }
   ],
   "source": [
    "# left merge: takes all from first DF\n",
    "left_merged_df =  a_df.merge(b_df, how=\"left\", on=['Country'])\n",
    "left_merged_df"
   ]
  },
  {
   "cell_type": "code",
   "execution_count": 52,
   "metadata": {},
   "outputs": [
    {
     "data": {
      "text/html": [
       "<div>\n",
       "<style scoped>\n",
       "    .dataframe tbody tr th:only-of-type {\n",
       "        vertical-align: middle;\n",
       "    }\n",
       "\n",
       "    .dataframe tbody tr th {\n",
       "        vertical-align: top;\n",
       "    }\n",
       "\n",
       "    .dataframe thead th {\n",
       "        text-align: right;\n",
       "    }\n",
       "</style>\n",
       "<table border=\"1\" class=\"dataframe\">\n",
       "  <thead>\n",
       "    <tr style=\"text-align: right;\">\n",
       "      <th></th>\n",
       "      <th>Country</th>\n",
       "      <th>Population (M)</th>\n",
       "      <th>Capital</th>\n",
       "      <th>HDI</th>\n",
       "    </tr>\n",
       "  </thead>\n",
       "  <tbody>\n",
       "    <tr>\n",
       "      <th>0</th>\n",
       "      <td>Germany</td>\n",
       "      <td>82.8</td>\n",
       "      <td>Berlin</td>\n",
       "      <td>0.936</td>\n",
       "    </tr>\n",
       "    <tr>\n",
       "      <th>1</th>\n",
       "      <td>France</td>\n",
       "      <td>67.2</td>\n",
       "      <td>Paris</td>\n",
       "      <td>0.901</td>\n",
       "    </tr>\n",
       "    <tr>\n",
       "      <th>2</th>\n",
       "      <td>Belgium</td>\n",
       "      <td>11.4</td>\n",
       "      <td>Brussels</td>\n",
       "      <td>0.916</td>\n",
       "    </tr>\n",
       "    <tr>\n",
       "      <th>3</th>\n",
       "      <td>Canada</td>\n",
       "      <td>NaN</td>\n",
       "      <td>NaN</td>\n",
       "      <td>0.926</td>\n",
       "    </tr>\n",
       "  </tbody>\n",
       "</table>\n",
       "</div>"
      ],
      "text/plain": [
       "   Country  Population (M)   Capital    HDI\n",
       "0  Germany            82.8    Berlin  0.936\n",
       "1   France            67.2     Paris  0.901\n",
       "2  Belgium            11.4  Brussels  0.916\n",
       "3   Canada             NaN       NaN  0.926"
      ]
     },
     "execution_count": 52,
     "metadata": {},
     "output_type": "execute_result"
    }
   ],
   "source": [
    "# right merge: predictably takes all from input DF:\n",
    "right_merged_df = a_df.merge(b_df, how=\"right\", on=['Country'])\n",
    "right_merged_df"
   ]
  },
  {
   "cell_type": "code",
   "execution_count": 53,
   "metadata": {},
   "outputs": [
    {
     "data": {
      "text/html": [
       "<div>\n",
       "<style scoped>\n",
       "    .dataframe tbody tr th:only-of-type {\n",
       "        vertical-align: middle;\n",
       "    }\n",
       "\n",
       "    .dataframe tbody tr th {\n",
       "        vertical-align: top;\n",
       "    }\n",
       "\n",
       "    .dataframe thead th {\n",
       "        text-align: right;\n",
       "    }\n",
       "</style>\n",
       "<table border=\"1\" class=\"dataframe\">\n",
       "  <thead>\n",
       "    <tr style=\"text-align: right;\">\n",
       "      <th></th>\n",
       "      <th>Country</th>\n",
       "      <th>Population (M)</th>\n",
       "      <th>Capital</th>\n",
       "      <th>HDI</th>\n",
       "    </tr>\n",
       "  </thead>\n",
       "  <tbody>\n",
       "    <tr>\n",
       "      <th>0</th>\n",
       "      <td>Germany</td>\n",
       "      <td>82.8</td>\n",
       "      <td>Berlin</td>\n",
       "      <td>0.936</td>\n",
       "    </tr>\n",
       "    <tr>\n",
       "      <th>1</th>\n",
       "      <td>France</td>\n",
       "      <td>67.2</td>\n",
       "      <td>Paris</td>\n",
       "      <td>0.901</td>\n",
       "    </tr>\n",
       "    <tr>\n",
       "      <th>2</th>\n",
       "      <td>Belgium</td>\n",
       "      <td>11.4</td>\n",
       "      <td>Brussels</td>\n",
       "      <td>0.916</td>\n",
       "    </tr>\n",
       "    <tr>\n",
       "      <th>3</th>\n",
       "      <td>Finland</td>\n",
       "      <td>5.5</td>\n",
       "      <td>Helsinki</td>\n",
       "      <td>NaN</td>\n",
       "    </tr>\n",
       "    <tr>\n",
       "      <th>4</th>\n",
       "      <td>Canada</td>\n",
       "      <td>NaN</td>\n",
       "      <td>NaN</td>\n",
       "      <td>0.926</td>\n",
       "    </tr>\n",
       "  </tbody>\n",
       "</table>\n",
       "</div>"
      ],
      "text/plain": [
       "   Country  Population (M)   Capital    HDI\n",
       "0  Germany            82.8    Berlin  0.936\n",
       "1   France            67.2     Paris  0.901\n",
       "2  Belgium            11.4  Brussels  0.916\n",
       "3  Finland             5.5  Helsinki    NaN\n",
       "4   Canada             NaN       NaN  0.926"
      ]
     },
     "execution_count": 53,
     "metadata": {},
     "output_type": "execute_result"
    }
   ],
   "source": [
    "# outer merge: includes all:\n",
    "outer_merged_df = a_df.merge(b_df, how=\"outer\", on=['Country'])\n",
    "outer_merged_df"
   ]
  },
  {
   "cell_type": "markdown",
   "metadata": {},
   "source": [
    "# JOIN DATAFRAMES\n",
    "### To join on the index"
   ]
  },
  {
   "cell_type": "code",
   "execution_count": 54,
   "metadata": {},
   "outputs": [],
   "source": [
    "# set indexes:\n",
    "aa_df = a_df.set_index(\"Country\")\n",
    "bb_df = b_df.set_index(\"Country\")\n"
   ]
  },
  {
   "cell_type": "code",
   "execution_count": 55,
   "metadata": {},
   "outputs": [
    {
     "data": {
      "text/html": [
       "<div>\n",
       "<style scoped>\n",
       "    .dataframe tbody tr th:only-of-type {\n",
       "        vertical-align: middle;\n",
       "    }\n",
       "\n",
       "    .dataframe tbody tr th {\n",
       "        vertical-align: top;\n",
       "    }\n",
       "\n",
       "    .dataframe thead th {\n",
       "        text-align: right;\n",
       "    }\n",
       "</style>\n",
       "<table border=\"1\" class=\"dataframe\">\n",
       "  <thead>\n",
       "    <tr style=\"text-align: right;\">\n",
       "      <th></th>\n",
       "      <th>Country</th>\n",
       "      <th>Population (M)</th>\n",
       "      <th>Capital</th>\n",
       "      <th>HDI</th>\n",
       "    </tr>\n",
       "  </thead>\n",
       "  <tbody>\n",
       "    <tr>\n",
       "      <th>0</th>\n",
       "      <td>Germany</td>\n",
       "      <td>82.8</td>\n",
       "      <td>Berlin</td>\n",
       "      <td>NaN</td>\n",
       "    </tr>\n",
       "    <tr>\n",
       "      <th>1</th>\n",
       "      <td>France</td>\n",
       "      <td>67.2</td>\n",
       "      <td>Paris</td>\n",
       "      <td>NaN</td>\n",
       "    </tr>\n",
       "    <tr>\n",
       "      <th>2</th>\n",
       "      <td>Belgium</td>\n",
       "      <td>11.4</td>\n",
       "      <td>Brussels</td>\n",
       "      <td>NaN</td>\n",
       "    </tr>\n",
       "    <tr>\n",
       "      <th>3</th>\n",
       "      <td>Finland</td>\n",
       "      <td>5.5</td>\n",
       "      <td>Helsinki</td>\n",
       "      <td>NaN</td>\n",
       "    </tr>\n",
       "  </tbody>\n",
       "</table>\n",
       "</div>"
      ],
      "text/plain": [
       "   Country  Population (M)   Capital  HDI\n",
       "0  Germany            82.8    Berlin  NaN\n",
       "1   France            67.2     Paris  NaN\n",
       "2  Belgium            11.4  Brussels  NaN\n",
       "3  Finland             5.5  Helsinki  NaN"
      ]
     },
     "execution_count": 55,
     "metadata": {},
     "output_type": "execute_result"
    }
   ],
   "source": [
    "a_df.join(bb_df) # default is left join"
   ]
  },
  {
   "cell_type": "code",
   "execution_count": 56,
   "metadata": {},
   "outputs": [
    {
     "data": {
      "text/html": [
       "<div>\n",
       "<style scoped>\n",
       "    .dataframe tbody tr th:only-of-type {\n",
       "        vertical-align: middle;\n",
       "    }\n",
       "\n",
       "    .dataframe tbody tr th {\n",
       "        vertical-align: top;\n",
       "    }\n",
       "\n",
       "    .dataframe thead th {\n",
       "        text-align: right;\n",
       "    }\n",
       "</style>\n",
       "<table border=\"1\" class=\"dataframe\">\n",
       "  <thead>\n",
       "    <tr style=\"text-align: right;\">\n",
       "      <th></th>\n",
       "      <th>Population (M)</th>\n",
       "      <th>Capital</th>\n",
       "      <th>HDI</th>\n",
       "    </tr>\n",
       "    <tr>\n",
       "      <th>Country</th>\n",
       "      <th></th>\n",
       "      <th></th>\n",
       "      <th></th>\n",
       "    </tr>\n",
       "  </thead>\n",
       "  <tbody>\n",
       "    <tr>\n",
       "      <th>Belgium</th>\n",
       "      <td>11.4</td>\n",
       "      <td>Brussels</td>\n",
       "      <td>0.916</td>\n",
       "    </tr>\n",
       "    <tr>\n",
       "      <th>Canada</th>\n",
       "      <td>NaN</td>\n",
       "      <td>NaN</td>\n",
       "      <td>0.926</td>\n",
       "    </tr>\n",
       "    <tr>\n",
       "      <th>Finland</th>\n",
       "      <td>5.5</td>\n",
       "      <td>Helsinki</td>\n",
       "      <td>NaN</td>\n",
       "    </tr>\n",
       "    <tr>\n",
       "      <th>France</th>\n",
       "      <td>67.2</td>\n",
       "      <td>Paris</td>\n",
       "      <td>0.901</td>\n",
       "    </tr>\n",
       "    <tr>\n",
       "      <th>Germany</th>\n",
       "      <td>82.8</td>\n",
       "      <td>Berlin</td>\n",
       "      <td>0.936</td>\n",
       "    </tr>\n",
       "  </tbody>\n",
       "</table>\n",
       "</div>"
      ],
      "text/plain": [
       "         Population (M)   Capital    HDI\n",
       "Country                                 \n",
       "Belgium            11.4  Brussels  0.916\n",
       "Canada              NaN       NaN  0.926\n",
       "Finland             5.5  Helsinki    NaN\n",
       "France             67.2     Paris  0.901\n",
       "Germany            82.8    Berlin  0.936"
      ]
     },
     "execution_count": 56,
     "metadata": {},
     "output_type": "execute_result"
    }
   ],
   "source": [
    "aa_df.join(bb_df, how='inner')\n",
    "aa_df.join(bb_df, how='right')\n",
    "aa_df.join(bb_df, how='outer')"
   ]
  },
  {
   "cell_type": "code",
   "execution_count": 57,
   "metadata": {},
   "outputs": [
    {
     "data": {
      "text/html": [
       "<div>\n",
       "<style scoped>\n",
       "    .dataframe tbody tr th:only-of-type {\n",
       "        vertical-align: middle;\n",
       "    }\n",
       "\n",
       "    .dataframe tbody tr th {\n",
       "        vertical-align: top;\n",
       "    }\n",
       "\n",
       "    .dataframe thead th {\n",
       "        text-align: right;\n",
       "    }\n",
       "</style>\n",
       "<table border=\"1\" class=\"dataframe\">\n",
       "  <thead>\n",
       "    <tr style=\"text-align: right;\">\n",
       "      <th></th>\n",
       "      <th>Country</th>\n",
       "      <th>Population (M)</th>\n",
       "      <th>Capital</th>\n",
       "      <th>HDI</th>\n",
       "    </tr>\n",
       "  </thead>\n",
       "  <tbody>\n",
       "    <tr>\n",
       "      <th>0</th>\n",
       "      <td>Germany</td>\n",
       "      <td>82.8</td>\n",
       "      <td>Berlin</td>\n",
       "      <td>NaN</td>\n",
       "    </tr>\n",
       "    <tr>\n",
       "      <th>1</th>\n",
       "      <td>France</td>\n",
       "      <td>67.2</td>\n",
       "      <td>Paris</td>\n",
       "      <td>NaN</td>\n",
       "    </tr>\n",
       "    <tr>\n",
       "      <th>2</th>\n",
       "      <td>Belgium</td>\n",
       "      <td>11.4</td>\n",
       "      <td>Brussels</td>\n",
       "      <td>NaN</td>\n",
       "    </tr>\n",
       "    <tr>\n",
       "      <th>3</th>\n",
       "      <td>Finland</td>\n",
       "      <td>5.5</td>\n",
       "      <td>Helsinki</td>\n",
       "      <td>NaN</td>\n",
       "    </tr>\n",
       "    <tr>\n",
       "      <th>0</th>\n",
       "      <td>Germany</td>\n",
       "      <td>NaN</td>\n",
       "      <td>NaN</td>\n",
       "      <td>0.936</td>\n",
       "    </tr>\n",
       "    <tr>\n",
       "      <th>1</th>\n",
       "      <td>France</td>\n",
       "      <td>NaN</td>\n",
       "      <td>NaN</td>\n",
       "      <td>0.901</td>\n",
       "    </tr>\n",
       "    <tr>\n",
       "      <th>2</th>\n",
       "      <td>Belgium</td>\n",
       "      <td>NaN</td>\n",
       "      <td>NaN</td>\n",
       "      <td>0.916</td>\n",
       "    </tr>\n",
       "    <tr>\n",
       "      <th>3</th>\n",
       "      <td>Canada</td>\n",
       "      <td>NaN</td>\n",
       "      <td>NaN</td>\n",
       "      <td>0.926</td>\n",
       "    </tr>\n",
       "  </tbody>\n",
       "</table>\n",
       "</div>"
      ],
      "text/plain": [
       "   Country  Population (M)   Capital    HDI\n",
       "0  Germany            82.8    Berlin    NaN\n",
       "1   France            67.2     Paris    NaN\n",
       "2  Belgium            11.4  Brussels    NaN\n",
       "3  Finland             5.5  Helsinki    NaN\n",
       "0  Germany             NaN       NaN  0.936\n",
       "1   France             NaN       NaN  0.901\n",
       "2  Belgium             NaN       NaN  0.916\n",
       "3   Canada             NaN       NaN  0.926"
      ]
     },
     "execution_count": 57,
     "metadata": {},
     "output_type": "execute_result"
    }
   ],
   "source": [
    "# Concatenation with concat:\n",
    "# I.e. just add one set onto the other, including Null where there isn't data\n",
    "concat_df = pd.concat([a_df, b_df], axis=\"index\", sort=False)\n",
    "concat_df"
   ]
  },
  {
   "cell_type": "markdown",
   "metadata": {},
   "source": [
    "# EXAMPLE\n",
    "## Olympic Sports and Medals, 1896-2014"
   ]
  },
  {
   "cell_type": "code",
   "execution_count": 58,
   "metadata": {},
   "outputs": [
    {
     "data": {
      "text/html": [
       "<div>\n",
       "<style scoped>\n",
       "    .dataframe tbody tr th:only-of-type {\n",
       "        vertical-align: middle;\n",
       "    }\n",
       "\n",
       "    .dataframe tbody tr th {\n",
       "        vertical-align: top;\n",
       "    }\n",
       "\n",
       "    .dataframe thead th {\n",
       "        text-align: right;\n",
       "    }\n",
       "</style>\n",
       "<table border=\"1\" class=\"dataframe\">\n",
       "  <thead>\n",
       "    <tr style=\"text-align: right;\">\n",
       "      <th></th>\n",
       "      <th>Year</th>\n",
       "      <th>City</th>\n",
       "      <th>Sport</th>\n",
       "      <th>Discipline</th>\n",
       "      <th>Athlete</th>\n",
       "      <th>Code</th>\n",
       "      <th>Gender</th>\n",
       "      <th>Event</th>\n",
       "      <th>Medal</th>\n",
       "      <th>Country</th>\n",
       "      <th>Population</th>\n",
       "      <th>GDP per Capita</th>\n",
       "      <th>Season</th>\n",
       "    </tr>\n",
       "  </thead>\n",
       "  <tbody>\n",
       "    <tr>\n",
       "      <th>0</th>\n",
       "      <td>1924</td>\n",
       "      <td>Chamonix</td>\n",
       "      <td>Biathlon</td>\n",
       "      <td>Biathlon</td>\n",
       "      <td>BERTHET, G.</td>\n",
       "      <td>FRA</td>\n",
       "      <td>Men</td>\n",
       "      <td>Military Patrol</td>\n",
       "      <td>Bronze</td>\n",
       "      <td>France</td>\n",
       "      <td>66808385.0</td>\n",
       "      <td>36205.568102</td>\n",
       "      <td>Winter</td>\n",
       "    </tr>\n",
       "    <tr>\n",
       "      <th>1</th>\n",
       "      <td>1924</td>\n",
       "      <td>Chamonix</td>\n",
       "      <td>Biathlon</td>\n",
       "      <td>Biathlon</td>\n",
       "      <td>MANDRILLON, C.</td>\n",
       "      <td>FRA</td>\n",
       "      <td>Men</td>\n",
       "      <td>Military Patrol</td>\n",
       "      <td>Bronze</td>\n",
       "      <td>France</td>\n",
       "      <td>66808385.0</td>\n",
       "      <td>36205.568102</td>\n",
       "      <td>Winter</td>\n",
       "    </tr>\n",
       "    <tr>\n",
       "      <th>2</th>\n",
       "      <td>1924</td>\n",
       "      <td>Chamonix</td>\n",
       "      <td>Biathlon</td>\n",
       "      <td>Biathlon</td>\n",
       "      <td>MANDRILLON, Maurice</td>\n",
       "      <td>FRA</td>\n",
       "      <td>Men</td>\n",
       "      <td>Military Patrol</td>\n",
       "      <td>Bronze</td>\n",
       "      <td>France</td>\n",
       "      <td>66808385.0</td>\n",
       "      <td>36205.568102</td>\n",
       "      <td>Winter</td>\n",
       "    </tr>\n",
       "    <tr>\n",
       "      <th>3</th>\n",
       "      <td>1924</td>\n",
       "      <td>Chamonix</td>\n",
       "      <td>Biathlon</td>\n",
       "      <td>Biathlon</td>\n",
       "      <td>VANDELLE, André</td>\n",
       "      <td>FRA</td>\n",
       "      <td>Men</td>\n",
       "      <td>Military Patrol</td>\n",
       "      <td>Bronze</td>\n",
       "      <td>France</td>\n",
       "      <td>66808385.0</td>\n",
       "      <td>36205.568102</td>\n",
       "      <td>Winter</td>\n",
       "    </tr>\n",
       "    <tr>\n",
       "      <th>4</th>\n",
       "      <td>1924</td>\n",
       "      <td>Chamonix</td>\n",
       "      <td>Biathlon</td>\n",
       "      <td>Biathlon</td>\n",
       "      <td>AUFDENBLATTEN, Adolf</td>\n",
       "      <td>SUI</td>\n",
       "      <td>Men</td>\n",
       "      <td>Military Patrol</td>\n",
       "      <td>Gold</td>\n",
       "      <td>Switzerland</td>\n",
       "      <td>8286976.0</td>\n",
       "      <td>80945.079219</td>\n",
       "      <td>Winter</td>\n",
       "    </tr>\n",
       "  </tbody>\n",
       "</table>\n",
       "</div>"
      ],
      "text/plain": [
       "   Year      City     Sport Discipline               Athlete Code Gender  \\\n",
       "0  1924  Chamonix  Biathlon   Biathlon           BERTHET, G.  FRA    Men   \n",
       "1  1924  Chamonix  Biathlon   Biathlon        MANDRILLON, C.  FRA    Men   \n",
       "2  1924  Chamonix  Biathlon   Biathlon   MANDRILLON, Maurice  FRA    Men   \n",
       "3  1924  Chamonix  Biathlon   Biathlon       VANDELLE, André  FRA    Men   \n",
       "4  1924  Chamonix  Biathlon   Biathlon  AUFDENBLATTEN, Adolf  SUI    Men   \n",
       "\n",
       "             Event   Medal      Country  Population  GDP per Capita  Season  \n",
       "0  Military Patrol  Bronze       France  66808385.0    36205.568102  Winter  \n",
       "1  Military Patrol  Bronze       France  66808385.0    36205.568102  Winter  \n",
       "2  Military Patrol  Bronze       France  66808385.0    36205.568102  Winter  \n",
       "3  Military Patrol  Bronze       France  66808385.0    36205.568102  Winter  \n",
       "4  Military Patrol    Gold  Switzerland   8286976.0    80945.079219  Winter  "
      ]
     },
     "execution_count": 58,
     "metadata": {},
     "output_type": "execute_result"
    }
   ],
   "source": [
    "countries_df = pd.read_csv('../data/dictionary.csv') # load data\n",
    "summer_df = pd.read_csv('../data/summer.csv')\n",
    "winter_df = pd.read_csv('../data/winter.csv')\n",
    "summer_df.rename(columns={'Country':'Code'}, inplace=True) # rename columns\n",
    "winter_df.rename(columns={'Country':'Code'}, inplace=True)\n",
    "summer_countries_df = summer_df.merge(countries_df, how='left', on=['Code']) # merge on code into summer_df as left\n",
    "summer_countries_df['Season'] = 'Summer' # fill new column with string\n",
    "winter_countries_df = winter_df.merge(countries_df, how='left', on=['Code']) # merge on code into winter_df as left\n",
    "winter_countries_df['Season'] = 'Winter'\n",
    "all_df = pd.concat((winter_countries_df, summer_countries_df)) # concatenate matching columned df\n",
    "all_df.head()"
   ]
  },
  {
   "cell_type": "markdown",
   "metadata": {},
   "source": [
    "## Data Cleaning"
   ]
  },
  {
   "cell_type": "code",
   "execution_count": 59,
   "metadata": {},
   "outputs": [
    {
     "data": {
      "text/plain": [
       "6367"
      ]
     },
     "execution_count": 59,
     "metadata": {},
     "output_type": "execute_result"
    }
   ],
   "source": [
    "all_df['Country'].isna().sum()"
   ]
  },
  {
   "cell_type": "code",
   "execution_count": 60,
   "metadata": {},
   "outputs": [],
   "source": [
    "all_df.dropna(subset=['Country'], inplace=True)"
   ]
  },
  {
   "cell_type": "code",
   "execution_count": 61,
   "metadata": {},
   "outputs": [
    {
     "data": {
      "text/plain": [
       "0"
      ]
     },
     "execution_count": 61,
     "metadata": {},
     "output_type": "execute_result"
    }
   ],
   "source": [
    "all_df['Country'].isna().sum()"
   ]
  },
  {
   "cell_type": "markdown",
   "metadata": {},
   "source": [
    "### Top Countries Analysis - since 1984"
   ]
  },
  {
   "cell_type": "code",
   "execution_count": 63,
   "metadata": {},
   "outputs": [
    {
     "name": "stdout",
     "output_type": "stream",
     "text": [
      "<class 'pandas.core.frame.DataFrame'>\n",
      "Index: 10 entries, USA to NED\n",
      "Data columns (total 1 columns):\n",
      " #   Column       Non-Null Count  Dtype\n",
      "---  ------       --------------  -----\n",
      " 0   Medal Count  10 non-null     int64\n",
      "dtypes: int64(1)\n",
      "memory usage: 160.0+ bytes\n"
     ]
    }
   ],
   "source": [
    "all_df.drop_duplicates(keep=False,inplace=True) \n",
    "all_df = all_df[all_df['Year'] >= 1984] # filter\n",
    "top_10_df = all_df.groupby(['Code'])['Medal'].count().sort_values(ascending=False)[:10]\n",
    "top_10_df = pd.DataFrame(top_10_df)\n",
    "top_10_df.rename(columns={'Medal':'Medal Count'}, inplace=True);\n",
    "top_10_df.info()"
   ]
  },
  {
   "cell_type": "code",
   "execution_count": 64,
   "metadata": {},
   "outputs": [
    {
     "data": {
      "image/png": "[encoded data removed]",
      "text/plain": [
       "<Figure size 640x480 with 1 Axes>"
      ]
     },
     "metadata": {},
     "output_type": "display_data"
    }
   ],
   "source": [
    "top_10_df.plot(kind=\"bar\");"
   ]
  },
  {
   "cell_type": "markdown",
   "metadata": {},
   "source": [
    "---\n",
    "\n",
    "### Top 10 Countries (by Season) since 1984"
   ]
  },
  {
   "cell_type": "code",
   "execution_count": 66,
   "metadata": {},
   "outputs": [
    {
     "data": {
      "text/html": [
       "<div>\n",
       "<style scoped>\n",
       "    .dataframe tbody tr th:only-of-type {\n",
       "        vertical-align: middle;\n",
       "    }\n",
       "\n",
       "    .dataframe tbody tr th {\n",
       "        vertical-align: top;\n",
       "    }\n",
       "\n",
       "    .dataframe thead th {\n",
       "        text-align: right;\n",
       "    }\n",
       "</style>\n",
       "<table border=\"1\" class=\"dataframe\">\n",
       "  <thead>\n",
       "    <tr style=\"text-align: right;\">\n",
       "      <th></th>\n",
       "      <th>Year</th>\n",
       "      <th>City</th>\n",
       "      <th>Sport</th>\n",
       "      <th>Discipline</th>\n",
       "      <th>Athlete</th>\n",
       "      <th>Code</th>\n",
       "      <th>Gender</th>\n",
       "      <th>Event</th>\n",
       "      <th>Medal</th>\n",
       "      <th>Country</th>\n",
       "      <th>Population</th>\n",
       "      <th>GDP per Capita</th>\n",
       "      <th>Season</th>\n",
       "    </tr>\n",
       "  </thead>\n",
       "  <tbody>\n",
       "    <tr>\n",
       "      <th>2017</th>\n",
       "      <td>1984</td>\n",
       "      <td>Sarajevo</td>\n",
       "      <td>Biathlon</td>\n",
       "      <td>Biathlon</td>\n",
       "      <td>KVALFOSS, Eirik</td>\n",
       "      <td>NOR</td>\n",
       "      <td>Men</td>\n",
       "      <td>10KM</td>\n",
       "      <td>Gold</td>\n",
       "      <td>Norway</td>\n",
       "      <td>5195921.0</td>\n",
       "      <td>74400.369777</td>\n",
       "      <td>Winter</td>\n",
       "    </tr>\n",
       "    <tr>\n",
       "      <th>2019</th>\n",
       "      <td>1984</td>\n",
       "      <td>Sarajevo</td>\n",
       "      <td>Biathlon</td>\n",
       "      <td>Biathlon</td>\n",
       "      <td>KVALFOSS, Eirik</td>\n",
       "      <td>NOR</td>\n",
       "      <td>Men</td>\n",
       "      <td>20KM</td>\n",
       "      <td>Bronze</td>\n",
       "      <td>Norway</td>\n",
       "      <td>5195921.0</td>\n",
       "      <td>74400.369777</td>\n",
       "      <td>Winter</td>\n",
       "    </tr>\n",
       "    <tr>\n",
       "      <th>2030</th>\n",
       "      <td>1984</td>\n",
       "      <td>Sarajevo</td>\n",
       "      <td>Biathlon</td>\n",
       "      <td>Biathlon</td>\n",
       "      <td>KVALFOSS, Eirik</td>\n",
       "      <td>NOR</td>\n",
       "      <td>Men</td>\n",
       "      <td>4X7.5KM Relay</td>\n",
       "      <td>Silver</td>\n",
       "      <td>Norway</td>\n",
       "      <td>5195921.0</td>\n",
       "      <td>74400.369777</td>\n",
       "      <td>Winter</td>\n",
       "    </tr>\n",
       "    <tr>\n",
       "      <th>2031</th>\n",
       "      <td>1984</td>\n",
       "      <td>Sarajevo</td>\n",
       "      <td>Biathlon</td>\n",
       "      <td>Biathlon</td>\n",
       "      <td>LIRHUS, Odd</td>\n",
       "      <td>NOR</td>\n",
       "      <td>Men</td>\n",
       "      <td>4X7.5KM Relay</td>\n",
       "      <td>Silver</td>\n",
       "      <td>Norway</td>\n",
       "      <td>5195921.0</td>\n",
       "      <td>74400.369777</td>\n",
       "      <td>Winter</td>\n",
       "    </tr>\n",
       "    <tr>\n",
       "      <th>2032</th>\n",
       "      <td>1984</td>\n",
       "      <td>Sarajevo</td>\n",
       "      <td>Biathlon</td>\n",
       "      <td>Biathlon</td>\n",
       "      <td>SÖBAK, Kjell</td>\n",
       "      <td>NOR</td>\n",
       "      <td>Men</td>\n",
       "      <td>4X7.5KM Relay</td>\n",
       "      <td>Silver</td>\n",
       "      <td>Norway</td>\n",
       "      <td>5195921.0</td>\n",
       "      <td>74400.369777</td>\n",
       "      <td>Winter</td>\n",
       "    </tr>\n",
       "  </tbody>\n",
       "</table>\n",
       "</div>"
      ],
      "text/plain": [
       "      Year      City     Sport Discipline          Athlete Code Gender  \\\n",
       "2017  1984  Sarajevo  Biathlon   Biathlon  KVALFOSS, Eirik  NOR    Men   \n",
       "2019  1984  Sarajevo  Biathlon   Biathlon  KVALFOSS, Eirik  NOR    Men   \n",
       "2030  1984  Sarajevo  Biathlon   Biathlon  KVALFOSS, Eirik  NOR    Men   \n",
       "2031  1984  Sarajevo  Biathlon   Biathlon      LIRHUS, Odd  NOR    Men   \n",
       "2032  1984  Sarajevo  Biathlon   Biathlon     SÖBAK, Kjell  NOR    Men   \n",
       "\n",
       "              Event   Medal Country  Population  GDP per Capita  Season  \n",
       "2017           10KM    Gold  Norway   5195921.0    74400.369777  Winter  \n",
       "2019           20KM  Bronze  Norway   5195921.0    74400.369777  Winter  \n",
       "2030  4X7.5KM Relay  Silver  Norway   5195921.0    74400.369777  Winter  \n",
       "2031  4X7.5KM Relay  Silver  Norway   5195921.0    74400.369777  Winter  \n",
       "2032  4X7.5KM Relay  Silver  Norway   5195921.0    74400.369777  Winter  "
      ]
     },
     "execution_count": 66,
     "metadata": {},
     "output_type": "execute_result"
    }
   ],
   "source": [
    "all_df.head()"
   ]
  },
  {
   "cell_type": "code",
   "execution_count": 67,
   "metadata": {},
   "outputs": [
    {
     "data": {
      "text/html": [
       "<div>\n",
       "<style scoped>\n",
       "    .dataframe tbody tr th:only-of-type {\n",
       "        vertical-align: middle;\n",
       "    }\n",
       "\n",
       "    .dataframe tbody tr th {\n",
       "        vertical-align: top;\n",
       "    }\n",
       "\n",
       "    .dataframe thead th {\n",
       "        text-align: right;\n",
       "    }\n",
       "</style>\n",
       "<table border=\"1\" class=\"dataframe\">\n",
       "  <thead>\n",
       "    <tr style=\"text-align: right;\">\n",
       "      <th>Season</th>\n",
       "      <th>Summer</th>\n",
       "      <th>Winter</th>\n",
       "    </tr>\n",
       "    <tr>\n",
       "      <th>Code</th>\n",
       "      <th></th>\n",
       "      <th></th>\n",
       "    </tr>\n",
       "  </thead>\n",
       "  <tbody>\n",
       "    <tr>\n",
       "      <th>AFG</th>\n",
       "      <td>2.0</td>\n",
       "      <td>NaN</td>\n",
       "    </tr>\n",
       "    <tr>\n",
       "      <th>AHO</th>\n",
       "      <td>1.0</td>\n",
       "      <td>NaN</td>\n",
       "    </tr>\n",
       "    <tr>\n",
       "      <th>ALG</th>\n",
       "      <td>15.0</td>\n",
       "      <td>NaN</td>\n",
       "    </tr>\n",
       "    <tr>\n",
       "      <th>ARG</th>\n",
       "      <td>173.0</td>\n",
       "      <td>NaN</td>\n",
       "    </tr>\n",
       "    <tr>\n",
       "      <th>ARM</th>\n",
       "      <td>11.0</td>\n",
       "      <td>NaN</td>\n",
       "    </tr>\n",
       "  </tbody>\n",
       "</table>\n",
       "</div>"
      ],
      "text/plain": [
       "Season  Summer  Winter\n",
       "Code                  \n",
       "AFG        2.0     NaN\n",
       "AHO        1.0     NaN\n",
       "ALG       15.0     NaN\n",
       "ARG      173.0     NaN\n",
       "ARM       11.0     NaN"
      ]
     },
     "execution_count": 67,
     "metadata": {},
     "output_type": "execute_result"
    }
   ],
   "source": [
    "top_10_season_df = all_df.groupby(['Code', 'Season'])['Medal'].count().unstack()\n",
    "top_10_season_df.head()"
   ]
  },
  {
   "cell_type": "markdown",
   "metadata": {},
   "source": []
  },
  {
   "cell_type": "code",
   "execution_count": 68,
   "metadata": {},
   "outputs": [
    {
     "data": {
      "image/png": "[encoded data removed]",
      "text/plain": [
       "<Figure size 640x480 with 1 Axes>"
      ]
     },
     "metadata": {},
     "output_type": "display_data"
    }
   ],
   "source": [
    "# top_10_season_df['Total'] = top_10_season_df['Summer'] + top_10_season_df['Winter']\n",
    "top_10_season_df['Total'] = top_10_season_df[[\"Summer\", \"Winter\"]].sum(axis=1, numeric_only=True)\n",
    "top_10_season_df.sort_values(by='Total', ascending=False, inplace=True)\n",
    "top_10_season_df = top_10_season_df[:10]\n",
    "top_10_season_df[['Summer', 'Winter']].plot(kind=\"bar\");"
   ]
  },
  {
   "cell_type": "markdown",
   "metadata": {},
   "source": [
    "# DATA VISUALISATION"
   ]
  },
  {
   "cell_type": "code",
   "execution_count": 71,
   "metadata": {},
   "outputs": [],
   "source": [
    "import matplotlib.pyplot as plt"
   ]
  },
  {
   "cell_type": "code",
   "execution_count": 73,
   "metadata": {},
   "outputs": [
    {
     "data": {
      "image/png": "[encoded data removed]",
      "text/plain": [
       "<Figure size 640x480 with 1 Axes>"
      ]
     },
     "metadata": {},
     "output_type": "display_data"
    }
   ],
   "source": [
    "points = [\n",
    "    {\"x\": 1, \"y\": 1},\n",
    "    {\"x\": 2, \"y\": 2},\n",
    "    {\"x\": 4, \"y\": 2},\n",
    "    {\"x\": 3, \"y\": 1},\n",
    "    {\"x\": 1, \"y\": 1},\n",
    "    {\"x\": 1, \"y\": 3},\n",
    "    {\"x\": 3, \"y\": 3},\n",
    "    {\"x\": 3, \"y\": 1},\n",
    "    {\"x\": 3, \"y\": 3},\n",
    "    {\"x\": 4, \"y\": 4},\n",
    "    {\"x\": 4, \"y\": 2},\n",
    "    {\"x\": 4, \"y\": 4},\n",
    "    {\"x\": 2, \"y\": 4},\n",
    "    {\"x\": 2, \"y\": 2},\n",
    "    {\"x\": 2, \"y\": 4},\n",
    "    {\"x\": 1, \"y\": 3},\n",
    "]\n",
    "point_df = pd.DataFrame.from_dict(points)\n",
    "plt.plot(point_df.x, point_df.y);"
   ]
  },
  {
   "cell_type": "code",
   "execution_count": 74,
   "metadata": {},
   "outputs": [
    {
     "data": {
      "image/png": "[encoded data removed]",
      "text/plain": [
       "<Figure size 2000x320 with 1 Axes>"
      ]
     },
     "metadata": {},
     "output_type": "display_data"
    }
   ],
   "source": [
    "data = np.arange(200)\n",
    "data.shape=(100,2)\n",
    "plt.figure(figsize=(25, 4), dpi=80)\n",
    "plt.scatter(data[:,0], data[:,1]);"
   ]
  },
  {
   "cell_type": "code",
   "execution_count": 4,
   "metadata": {},
   "outputs": [
    {
     "data": {
      "text/plain": [
       "(-10.0, 10.0)"
      ]
     },
     "execution_count": 4,
     "metadata": {},
     "output_type": "execute_result"
    },
    {
     "data": {
      "image/png": "[encoded data removed]",
      "text/plain": [
       "<Figure size 640x480 with 1 Axes>"
      ]
     },
     "metadata": {},
     "output_type": "display_data"
    }
   ],
   "source": [
    "x = np.arange(-10,10,0.1)\n",
    "y = 4*x + 2\n",
    "plt.plot(x,y)\n",
    "plt.ylim(-10,10)"
   ]
  },
  {
   "cell_type": "code",
   "execution_count": 5,
   "metadata": {},
   "outputs": [],
   "source": [
    "import math\n",
    "y1 = x*x\n",
    "\n",
    "def getlog(n):\n",
    "    if n > 0:   return math.log(n)\n",
    "    else:       return 0\n",
    "\n",
    "def gete(n):\n",
    "    try:        return math.exp(n)\n",
    "    except:     return 0\n",
    "    \n",
    "def getfunc(n):\n",
    "    try:        return math.exp(n) / (math.exp(n) + 1)\n",
    "    except:     return 0\n",
    "    \n",
    "y2 = list(map(getlog, x))\n",
    "y3 = list(map(gete,x))\n",
    "y4 = list(map(getfunc,x))"
   ]
  },
  {
   "cell_type": "code",
   "execution_count": 6,
   "metadata": {},
   "outputs": [
    {
     "data": {
      "text/plain": [
       "(-4.0, 4.0)"
      ]
     },
     "execution_count": 6,
     "metadata": {},
     "output_type": "execute_result"
    },
    {
     "data": {
      "image/png": "[encoded data removed]",
      "text/plain": [
       "<Figure size 640x480 with 1 Axes>"
      ]
     },
     "metadata": {},
     "output_type": "display_data"
    }
   ],
   "source": [
    "plt.plot(y1,x)\n",
    "plt.plot(y2,x)\n",
    "plt.plot(y3,x)\n",
    "plt.plot(y4,x)\n",
    "plt.ylim(-2,6)\n",
    "plt.xlim(-4,4)"
   ]
  },
  {
   "cell_type": "code",
   "execution_count": 7,
   "metadata": {},
   "outputs": [
    {
     "data": {
      "text/plain": [
       "[<matplotlib.lines.Line2D at 0x7f69c3a39480>]"
      ]
     },
     "execution_count": 7,
     "metadata": {},
     "output_type": "execute_result"
    },
    {
     "data": {
      "image/png": "[encoded data removed]",
      "text/plain": [
       "<Figure size 640x480 with 1 Axes>"
      ]
     },
     "metadata": {},
     "output_type": "display_data"
    }
   ],
   "source": [
    "y5 = [getlog(y) if y > 0 else 0 for y in x]\n",
    "plt.plot(y5,x)"
   ]
  },
  {
   "cell_type": "code",
   "execution_count": null,
   "metadata": {},
   "outputs": [],
   "source": []
  }
 ],
 "metadata": {
  "kernelspec": {
   "display_name": "initial_env",
   "language": "python",
   "name": "python3"
  },
  "language_info": {
   "codemirror_mode": {
    "name": "ipython",
    "version": 3
   },
   "file_extension": ".py",
   "mimetype": "text/x-python",
   "name": "python",
   "nbconvert_exporter": "python",
   "pygments_lexer": "ipython3",
   "version": "3.10.6"
  }
 },
 "nbformat": 4,
 "nbformat_minor": 2
}
